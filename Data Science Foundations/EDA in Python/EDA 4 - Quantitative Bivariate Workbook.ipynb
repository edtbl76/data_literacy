{
 "cells": [
  {
   "cell_type": "markdown",
   "id": "166a6f49-0ba7-4962-af89-230b88dcb1d6",
   "metadata": {},
   "source": [
    "# EDA 4 - Quantitative Bivariate Analysis\n",
    "\n",
    "In EDA 3 we did a bivairate analysis that compared a categorical variable and a quantitative variable. Now we are going to compare two quantitative variables. \n",
    "\n",
    "We're going to use some rental data from the Texas area. Let's do our set up and some quick analysis before we **get to work!**"
   ]
  },
  {
   "cell_type": "code",
   "execution_count": 1,
   "id": "cca58441-8184-4bd6-bd0e-f15be93e2f41",
   "metadata": {},
   "outputs": [
    {
     "data": {
      "text/html": [
       "<div>\n",
       "<style scoped>\n",
       "    .dataframe tbody tr th:only-of-type {\n",
       "        vertical-align: middle;\n",
       "    }\n",
       "\n",
       "    .dataframe tbody tr th {\n",
       "        vertical-align: top;\n",
       "    }\n",
       "\n",
       "    .dataframe thead th {\n",
       "        text-align: right;\n",
       "    }\n",
       "</style>\n",
       "<table border=\"1\" class=\"dataframe\">\n",
       "  <thead>\n",
       "    <tr style=\"text-align: right;\">\n",
       "      <th></th>\n",
       "      <th>price</th>\n",
       "      <th>type</th>\n",
       "      <th>square_feet</th>\n",
       "      <th>beds</th>\n",
       "      <th>baths</th>\n",
       "      <th>latitude</th>\n",
       "      <th>longitude</th>\n",
       "    </tr>\n",
       "  </thead>\n",
       "  <tbody>\n",
       "    <tr>\n",
       "      <th>0</th>\n",
       "      <td>615</td>\n",
       "      <td>apartment</td>\n",
       "      <td>364</td>\n",
       "      <td>0</td>\n",
       "      <td>1.0</td>\n",
       "      <td>35.1653</td>\n",
       "      <td>-101.8840</td>\n",
       "    </tr>\n",
       "    <tr>\n",
       "      <th>1</th>\n",
       "      <td>1346</td>\n",
       "      <td>apartment</td>\n",
       "      <td>816</td>\n",
       "      <td>1</td>\n",
       "      <td>1.0</td>\n",
       "      <td>32.9865</td>\n",
       "      <td>-96.6860</td>\n",
       "    </tr>\n",
       "    <tr>\n",
       "      <th>2</th>\n",
       "      <td>900</td>\n",
       "      <td>apartment</td>\n",
       "      <td>500</td>\n",
       "      <td>1</td>\n",
       "      <td>1.0</td>\n",
       "      <td>30.2355</td>\n",
       "      <td>-97.7292</td>\n",
       "    </tr>\n",
       "    <tr>\n",
       "      <th>3</th>\n",
       "      <td>650</td>\n",
       "      <td>apartment</td>\n",
       "      <td>700</td>\n",
       "      <td>1</td>\n",
       "      <td>1.0</td>\n",
       "      <td>26.1923</td>\n",
       "      <td>-98.2657</td>\n",
       "    </tr>\n",
       "    <tr>\n",
       "      <th>4</th>\n",
       "      <td>1330</td>\n",
       "      <td>apartment</td>\n",
       "      <td>1040</td>\n",
       "      <td>2</td>\n",
       "      <td>2.0</td>\n",
       "      <td>30.6380</td>\n",
       "      <td>-96.2940</td>\n",
       "    </tr>\n",
       "  </tbody>\n",
       "</table>\n",
       "</div>"
      ],
      "text/plain": [
       "   price       type  square_feet  beds  baths  latitude  longitude\n",
       "0    615  apartment          364     0    1.0   35.1653  -101.8840\n",
       "1   1346  apartment          816     1    1.0   32.9865   -96.6860\n",
       "2    900  apartment          500     1    1.0   30.2355   -97.7292\n",
       "3    650  apartment          700     1    1.0   26.1923   -98.2657\n",
       "4   1330  apartment         1040     2    2.0   30.6380   -96.2940"
      ]
     },
     "execution_count": 1,
     "metadata": {},
     "output_type": "execute_result"
    }
   ],
   "source": [
    "import pandas as pd\n",
    "\n",
    "rentals = pd.read_csv('texas_housing.csv')\n",
    "rentals.head()"
   ]
  },
  {
   "cell_type": "markdown",
   "id": "1f543212-33d7-46b4-b636-e1bd22f1f031",
   "metadata": {},
   "source": [
    "We have 7 variables\n",
    "\n",
    "- **price**: This is a numerical variable. Generally speaking, we consider price a *continuous* quantitative variable, because it is usually captured with the decimal values (cents). Here we see whole dollar values which makes it appear like a *discrete* value. For the sake of accuracy and continuity, we're going to treat it as a *continuous* variable. ```Remember... continuous is something we measure, discrete is something we count```\n",
    "- **type**: We know this is categorical. If there are only two values it is *binary*, if there are more its *nominal*. Generally speaking type variables are labels that provide information about the **observation**. An observation (scientifically speaking) is synonymous w/ row or record. It is common to use type as a means of mixed bivariate analysis, where we compare other variables against each type value.\n",
    "- **square_feet**: This is a quantitative variable. The column name itself is a unit of measurement, so this is a slam dunk. This is *continuous*. It is worth noting that even though we have a variable that is generally considered continuous, that doesn't mean it was named correctly or that it was captured correctly. Maybe square feet refers to the number of Minecraft characters with actual square feet. That would be *discrete*. If it was entered manually, the inches or fractions of inches might not have been captured, making the actual data more representative of a *discrete* variable.\n",
    "- **beds, baths**: These are both *discrete* quantitative values. We count bedrooms and bathrooms. Bathrooms are annoying. See rant below.  \n",
    "- **latitude, longitude**: these are *continuous* variables. They are values we measure.\n",
    "\n",
    "---\n",
    "**Bathroom Rant:**\n",
    "A half bath is a facade of continuity as a variable. If we want to nitpick this, it is a compound variable because the nature of a half bath communicates a type of bathroom or the \"features\" of the bathroom. We don't actually cut a bathroom in half. I'm going on this rant for two reasons: 1. I feel like it. 2. because being this pedantic about data analysis is important sometimes. \n",
    "\n",
    "What is the difference between a half and full bath? It comes down to the fixtures. Half the bathrooms have a toilet and a sink. If you are particularly observant, you might notice that these are usually located near the main or common living areas of a home. This is convenient for the more common uses of a bathroom during the day and for guests. A full bathroom includes a bathtub, shower, combo of the two or one of each. \n",
    "\n",
    "Put yourself in the position of a renter. How might these differences impact you? \n",
    "\n",
    "How would a single consultant who travels a lot view it? How would a family of 4 who love to entertain view it? \n",
    "\n",
    "---\n",
    "\n",
    "At any rate, let's take a closer look (at our data, not the bathrooms)!"
   ]
  },
  {
   "cell_type": "code",
   "execution_count": 2,
   "id": "921bf682-068c-43b4-a734-7e85a05a0dd1",
   "metadata": {},
   "outputs": [
    {
     "name": "stdout",
     "output_type": "stream",
     "text": [
      "<class 'pandas.core.frame.DataFrame'>\n",
      "RangeIndex: 4981 entries, 0 to 4980\n",
      "Data columns (total 7 columns):\n",
      " #   Column       Non-Null Count  Dtype  \n",
      "---  ------       --------------  -----  \n",
      " 0   price        4981 non-null   int64  \n",
      " 1   type         4981 non-null   object \n",
      " 2   square_feet  4981 non-null   int64  \n",
      " 3   beds         4981 non-null   int64  \n",
      " 4   baths        4981 non-null   float64\n",
      " 5   latitude     4936 non-null   float64\n",
      " 6   longitude    4936 non-null   float64\n",
      "dtypes: float64(3), int64(3), object(1)\n",
      "memory usage: 272.5+ KB\n"
     ]
    }
   ],
   "source": [
    "rentals.info()"
   ]
  },
  {
   "cell_type": "markdown",
   "id": "1373d96a-1d16-452c-9635-44f362991093",
   "metadata": {},
   "source": [
    "---\n",
    "\n",
    "You might notice that ```info()``` gives us the shape of the dataframe. We have 7 columns and a total of 4981 entires. \n",
    "\n",
    "The datatypes are ok. \n",
    "- Price and square feet as an int64 are fine. I'd prefer a float because the value is *continuous*, but if we don't have the fractional components of the value, there's no need to waste the storage. For the sake of accuracy we are going to change them. \n",
    "- Type is actually a string, but pandas encodes this as an object. we can recategorize this as a string. We'll look at this shortly\n",
    "- beds as an int are perfect.\n",
    "- baths as a float are annoying, but accurate due to the reasons I ranted about above.\n",
    "- lat and long are accurate as floats.\n",
    "\n",
    "Let's make our adjustments. "
   ]
  },
  {
   "cell_type": "code",
   "execution_count": 3,
   "id": "cccc5dd4-4b94-4e5c-bd25-8231dfa37c79",
   "metadata": {},
   "outputs": [
    {
     "name": "stdout",
     "output_type": "stream",
     "text": [
      "<class 'pandas.core.frame.DataFrame'>\n",
      "RangeIndex: 4981 entries, 0 to 4980\n",
      "Data columns (total 7 columns):\n",
      " #   Column       Non-Null Count  Dtype  \n",
      "---  ------       --------------  -----  \n",
      " 0   price        4981 non-null   float64\n",
      " 1   type         4981 non-null   object \n",
      " 2   square_feet  4981 non-null   float64\n",
      " 3   beds         4981 non-null   int64  \n",
      " 4   baths        4981 non-null   float64\n",
      " 5   latitude     4936 non-null   float64\n",
      " 6   longitude    4936 non-null   float64\n",
      "dtypes: float64(5), int64(1), object(1)\n",
      "memory usage: 272.5+ KB\n"
     ]
    }
   ],
   "source": [
    "# we're going to start by fixing price and square_feet\n",
    "rentals.price = rentals.price.astype('float64')\n",
    "rentals.square_feet = rentals.square_feet.astype('float64')\n",
    "rentals.info()"
   ]
  },
  {
   "cell_type": "markdown",
   "id": "9a592925-a6e8-4187-b77b-8cf93e5f29cd",
   "metadata": {},
   "source": [
    "Ok, we've taken care of our *continuous* variables...\n",
    "\n",
    "Now for the string. I didn't make a big deal about this in previous lessons but as I'm moving along, I'm trying to introduce new nuances piece by piece. \n",
    "\n",
    "#### What is the difference between 'string' and 'object' in pandas? \n",
    "\n",
    "String was specifically created and optimized for text data. This means that it supports operations that were designed for text (i.e. string manipulation like ```lower()``` or ```upper()```). It's also more memory efficient than an Object data type when storing text data. \n",
    "\n",
    "Object is a generic type. It can contain **any Python object**. As with most things, generalism tends to increase scope and reduce the ability to optimize for any one thing. This means that object is often less efficient at storing a given type of data than a dataytpe that was designed specifically for that type of data. \n",
    "\n",
    "\n",
    "#### When do I use String? \n",
    "\n",
    "There are two primary reasons. \n",
    "1. Performance. If you are dealing with a large amount of text data, this data type will be more performant.\n",
    "2. String manipulation. If the text data is ambiguous, consistently unclean (manual entry?) or has other needs that require you to wrangle around with it, this is a great reason.\n",
    "\n",
    "#### When can't I use it? \n",
    "\n",
    "1. compatibility. Unfortunately, older codebases, third party libs, or other languages might not recognize the string data type.\n",
    "2. **compatibility**. I'm emphasizing this, because many folks embarking on greenfield projects ignore third party libaries or polyglot environments, and then find themselves in troubling circumstances.\n",
    "3. Mixed data. If there are going to values in the dataset that aren't text data, you have to use an object. This is important to consider. Sometimes you can convert values to a string, and this can often be automated. This isn't always a good idea. If only 10% of the data is text-based, then we are optimizing all of the data towards a type that is only 1/10th of the actual data. It's a good bet that we the other 9/10s might not be well-suited for those optimizations.\n",
    "\n",
    "With all that said.. let's investigate the variable. "
   ]
  },
  {
   "cell_type": "code",
   "execution_count": 4,
   "id": "0a655184-d2da-434c-9f94-63ff444a1078",
   "metadata": {},
   "outputs": [
    {
     "data": {
      "text/plain": [
       "array(['apartment', 'house', 'duplex', 'townhouse', 'flat', 'condo',\n",
       "       'manufactured', 'loft', 'cottage/cabin', 'in-law'], dtype=object)"
      ]
     },
     "execution_count": 4,
     "metadata": {},
     "output_type": "execute_result"
    }
   ],
   "source": [
    "# first, what are the values we've got? \n",
    "rentals.type.unique()"
   ]
  },
  {
   "cell_type": "markdown",
   "id": "9c534b8b-5999-4cdd-8872-4f7253f0d3ad",
   "metadata": {},
   "source": [
    "---\n",
    "Ok, we've got 10 different types which helps us identify this as a *nominal* variable. All of the data is text based, and we know that this exercise is unlikely to leave this Jupyter notebook. \n",
    "\n",
    "We could say that changing the datatype is overkill based on that last sentence, but we're going to do it anyway as a means of practice. "
   ]
  },
  {
   "cell_type": "code",
   "execution_count": 5,
   "id": "5b42094a-37d9-4de5-8e11-6d69a54621db",
   "metadata": {},
   "outputs": [
    {
     "name": "stdout",
     "output_type": "stream",
     "text": [
      "<class 'pandas.core.frame.DataFrame'>\n",
      "RangeIndex: 4981 entries, 0 to 4980\n",
      "Data columns (total 7 columns):\n",
      " #   Column       Non-Null Count  Dtype  \n",
      "---  ------       --------------  -----  \n",
      " 0   price        4981 non-null   float64\n",
      " 1   type         4981 non-null   string \n",
      " 2   square_feet  4981 non-null   float64\n",
      " 3   beds         4981 non-null   int64  \n",
      " 4   baths        4981 non-null   float64\n",
      " 5   latitude     4936 non-null   float64\n",
      " 6   longitude    4936 non-null   float64\n",
      "dtypes: float64(5), int64(1), string(1)\n",
      "memory usage: 272.5 KB\n"
     ]
    }
   ],
   "source": [
    "rentals.type = rentals.type.astype('string')\n",
    "rentals.info()"
   ]
  },
  {
   "cell_type": "markdown",
   "id": "24fa104d-e4b4-4e70-bdde-98462dd47c74",
   "metadata": {},
   "source": [
    "---\n",
    "\n",
    "Let's take a quick look at the summaries of the data to see what the quality of the variables look like"
   ]
  },
  {
   "cell_type": "code",
   "execution_count": 6,
   "id": "6af98211-2ecc-42e3-b041-1ffbaa61e60b",
   "metadata": {},
   "outputs": [
    {
     "data": {
      "text/html": [
       "<div>\n",
       "<style scoped>\n",
       "    .dataframe tbody tr th:only-of-type {\n",
       "        vertical-align: middle;\n",
       "    }\n",
       "\n",
       "    .dataframe tbody tr th {\n",
       "        vertical-align: top;\n",
       "    }\n",
       "\n",
       "    .dataframe thead th {\n",
       "        text-align: right;\n",
       "    }\n",
       "</style>\n",
       "<table border=\"1\" class=\"dataframe\">\n",
       "  <thead>\n",
       "    <tr style=\"text-align: right;\">\n",
       "      <th></th>\n",
       "      <th>price</th>\n",
       "      <th>type</th>\n",
       "      <th>square_feet</th>\n",
       "      <th>beds</th>\n",
       "      <th>baths</th>\n",
       "      <th>latitude</th>\n",
       "      <th>longitude</th>\n",
       "    </tr>\n",
       "  </thead>\n",
       "  <tbody>\n",
       "    <tr>\n",
       "      <th>count</th>\n",
       "      <td>4981.000000</td>\n",
       "      <td>4981</td>\n",
       "      <td>4981.000000</td>\n",
       "      <td>4981.000000</td>\n",
       "      <td>4981.000000</td>\n",
       "      <td>4936.000000</td>\n",
       "      <td>4936.000000</td>\n",
       "    </tr>\n",
       "    <tr>\n",
       "      <th>unique</th>\n",
       "      <td>NaN</td>\n",
       "      <td>10</td>\n",
       "      <td>NaN</td>\n",
       "      <td>NaN</td>\n",
       "      <td>NaN</td>\n",
       "      <td>NaN</td>\n",
       "      <td>NaN</td>\n",
       "    </tr>\n",
       "    <tr>\n",
       "      <th>top</th>\n",
       "      <td>NaN</td>\n",
       "      <td>apartment</td>\n",
       "      <td>NaN</td>\n",
       "      <td>NaN</td>\n",
       "      <td>NaN</td>\n",
       "      <td>NaN</td>\n",
       "      <td>NaN</td>\n",
       "    </tr>\n",
       "    <tr>\n",
       "      <th>freq</th>\n",
       "      <td>NaN</td>\n",
       "      <td>4396</td>\n",
       "      <td>NaN</td>\n",
       "      <td>NaN</td>\n",
       "      <td>NaN</td>\n",
       "      <td>NaN</td>\n",
       "      <td>NaN</td>\n",
       "    </tr>\n",
       "    <tr>\n",
       "      <th>mean</th>\n",
       "      <td>993.983337</td>\n",
       "      <td>NaN</td>\n",
       "      <td>891.022285</td>\n",
       "      <td>1.720137</td>\n",
       "      <td>1.453423</td>\n",
       "      <td>31.044918</td>\n",
       "      <td>-98.397013</td>\n",
       "    </tr>\n",
       "    <tr>\n",
       "      <th>std</th>\n",
       "      <td>387.906707</td>\n",
       "      <td>NaN</td>\n",
       "      <td>332.669473</td>\n",
       "      <td>0.851159</td>\n",
       "      <td>0.583611</td>\n",
       "      <td>2.075259</td>\n",
       "      <td>2.775968</td>\n",
       "    </tr>\n",
       "    <tr>\n",
       "      <th>min</th>\n",
       "      <td>1.000000</td>\n",
       "      <td>NaN</td>\n",
       "      <td>1.000000</td>\n",
       "      <td>0.000000</td>\n",
       "      <td>0.000000</td>\n",
       "      <td>25.899800</td>\n",
       "      <td>-106.598000</td>\n",
       "    </tr>\n",
       "    <tr>\n",
       "      <th>25%</th>\n",
       "      <td>730.000000</td>\n",
       "      <td>NaN</td>\n",
       "      <td>680.000000</td>\n",
       "      <td>1.000000</td>\n",
       "      <td>1.000000</td>\n",
       "      <td>29.800300</td>\n",
       "      <td>-99.499400</td>\n",
       "    </tr>\n",
       "    <tr>\n",
       "      <th>50%</th>\n",
       "      <td>905.000000</td>\n",
       "      <td>NaN</td>\n",
       "      <td>844.000000</td>\n",
       "      <td>2.000000</td>\n",
       "      <td>1.000000</td>\n",
       "      <td>30.651000</td>\n",
       "      <td>-97.795600</td>\n",
       "    </tr>\n",
       "    <tr>\n",
       "      <th>75%</th>\n",
       "      <td>1149.000000</td>\n",
       "      <td>NaN</td>\n",
       "      <td>1041.000000</td>\n",
       "      <td>2.000000</td>\n",
       "      <td>2.000000</td>\n",
       "      <td>32.419000</td>\n",
       "      <td>-96.730825</td>\n",
       "    </tr>\n",
       "    <tr>\n",
       "      <th>max</th>\n",
       "      <td>2985.000000</td>\n",
       "      <td>NaN</td>\n",
       "      <td>2956.000000</td>\n",
       "      <td>7.000000</td>\n",
       "      <td>5.500000</td>\n",
       "      <td>35.277900</td>\n",
       "      <td>-93.737700</td>\n",
       "    </tr>\n",
       "  </tbody>\n",
       "</table>\n",
       "</div>"
      ],
      "text/plain": [
       "              price       type  square_feet         beds        baths  \\\n",
       "count   4981.000000       4981  4981.000000  4981.000000  4981.000000   \n",
       "unique          NaN         10          NaN          NaN          NaN   \n",
       "top             NaN  apartment          NaN          NaN          NaN   \n",
       "freq            NaN       4396          NaN          NaN          NaN   \n",
       "mean     993.983337        NaN   891.022285     1.720137     1.453423   \n",
       "std      387.906707        NaN   332.669473     0.851159     0.583611   \n",
       "min        1.000000        NaN     1.000000     0.000000     0.000000   \n",
       "25%      730.000000        NaN   680.000000     1.000000     1.000000   \n",
       "50%      905.000000        NaN   844.000000     2.000000     1.000000   \n",
       "75%     1149.000000        NaN  1041.000000     2.000000     2.000000   \n",
       "max     2985.000000        NaN  2956.000000     7.000000     5.500000   \n",
       "\n",
       "           latitude    longitude  \n",
       "count   4936.000000  4936.000000  \n",
       "unique          NaN          NaN  \n",
       "top             NaN          NaN  \n",
       "freq            NaN          NaN  \n",
       "mean      31.044918   -98.397013  \n",
       "std        2.075259     2.775968  \n",
       "min       25.899800  -106.598000  \n",
       "25%       29.800300   -99.499400  \n",
       "50%       30.651000   -97.795600  \n",
       "75%       32.419000   -96.730825  \n",
       "max       35.277900   -93.737700  "
      ]
     },
     "execution_count": 6,
     "metadata": {},
     "output_type": "execute_result"
    }
   ],
   "source": [
    "rentals.describe(include='all')"
   ]
  },
  {
   "cell_type": "markdown",
   "id": "40bb2cc9-1642-4e07-8489-0a46d1d08b7e",
   "metadata": {},
   "source": [
    "---\n",
    "\n",
    "So, let's take a long hard look at this. (Sorry, we haven't gone this deep before). \n",
    "\n",
    "First I'm going to go through the summaries that are provided. \n",
    "- **count**: This is the number of observations (records, rows, whatever).\n",
    "- **unique**: This is only relevant for *categorical* variables. It tells you the number of unique variables. You can use this to identify *binary* variables.\n",
    "- **top**: this is the most frequently occurring value for a *categorical* variable.\n",
    "- **freq**: this is the actual frequency of the value idenfitied in **top**.\n",
    "- **mean, min and max**: we know what these *mean* (haha) by now!\n",
    "- **25,50,75**: These are the *median* and the boundaries of the *IQR*. We know what these mean too!\n",
    "- **std**: Standard Deviation. This is going to become more interesting in coming lessons, because standard deviations are used in evaluating spread. \n",
    "\n",
    "Some observations from the summaries: \n",
    "- we have 4981 observations, but 4936 for **latitude/longitude**, which appears to be missing 45 observations?. We'll dig into this.\n",
    "- we'll use ```value_counts()``` to validate the **top/freq**\n",
    "- **mean,median,25,75** and **std** are all fairly difficult to evaluate from ```describe()``` unless you have intimate domain knowledge. We usually need some form of visualization to take a look at the trends and shape of the data in addition to some understanding of the meaning of that data in order to perform any analysis of these values.\n",
    "- **min** and **max** are more useful from this view because they represent the absolute top and bottom of the ranges of values. This is where mistakes, inaccuracies and outliers tend to live. Unless you've committed the map of the planet to memory, it's unlikely you'll be able to pick out long/lat by the naked eye. We can probably look it up, but most of the values appear continuous, so I doubt that there are any errors there. Looking across the variables for **max** most of the values appear fairly reasonable. **min** however shows a few areas that are worrisome. A $1 apartment, 1 square foot and 0 beds/0 bath are either a mistake or a smartass trying to rent out a shoebox. "
   ]
  },
  {
   "cell_type": "code",
   "execution_count": 7,
   "id": "59e4403c-257a-40e6-8bbe-14a1939ce1d7",
   "metadata": {},
   "outputs": [
    {
     "data": {
      "text/plain": [
       "price           0\n",
       "type            0\n",
       "square_feet     0\n",
       "beds            0\n",
       "baths           0\n",
       "latitude       45\n",
       "longitude      45\n",
       "dtype: int64"
      ]
     },
     "execution_count": 7,
     "metadata": {},
     "output_type": "execute_result"
    }
   ],
   "source": [
    "# let's look at latitude and longitude\n",
    "rentals.isnull().sum()"
   ]
  },
  {
   "cell_type": "code",
   "execution_count": 8,
   "id": "b7c81553-6b0b-443f-80be-96cc60f45938",
   "metadata": {},
   "outputs": [
    {
     "data": {
      "text/html": [
       "<div>\n",
       "<style scoped>\n",
       "    .dataframe tbody tr th:only-of-type {\n",
       "        vertical-align: middle;\n",
       "    }\n",
       "\n",
       "    .dataframe tbody tr th {\n",
       "        vertical-align: top;\n",
       "    }\n",
       "\n",
       "    .dataframe thead th {\n",
       "        text-align: right;\n",
       "    }\n",
       "</style>\n",
       "<table border=\"1\" class=\"dataframe\">\n",
       "  <thead>\n",
       "    <tr style=\"text-align: right;\">\n",
       "      <th></th>\n",
       "      <th>price</th>\n",
       "      <th>type</th>\n",
       "      <th>square_feet</th>\n",
       "      <th>beds</th>\n",
       "      <th>baths</th>\n",
       "      <th>latitude</th>\n",
       "      <th>longitude</th>\n",
       "    </tr>\n",
       "  </thead>\n",
       "  <tbody>\n",
       "    <tr>\n",
       "      <th>117</th>\n",
       "      <td>2355.0</td>\n",
       "      <td>apartment</td>\n",
       "      <td>1628.0</td>\n",
       "      <td>3</td>\n",
       "      <td>2.5</td>\n",
       "      <td>NaN</td>\n",
       "      <td>NaN</td>\n",
       "    </tr>\n",
       "    <tr>\n",
       "      <th>414</th>\n",
       "      <td>689.0</td>\n",
       "      <td>apartment</td>\n",
       "      <td>950.0</td>\n",
       "      <td>2</td>\n",
       "      <td>2.0</td>\n",
       "      <td>NaN</td>\n",
       "      <td>NaN</td>\n",
       "    </tr>\n",
       "    <tr>\n",
       "      <th>434</th>\n",
       "      <td>2205.0</td>\n",
       "      <td>apartment</td>\n",
       "      <td>816.0</td>\n",
       "      <td>1</td>\n",
       "      <td>1.0</td>\n",
       "      <td>NaN</td>\n",
       "      <td>NaN</td>\n",
       "    </tr>\n",
       "    <tr>\n",
       "      <th>504</th>\n",
       "      <td>1499.0</td>\n",
       "      <td>apartment</td>\n",
       "      <td>1202.0</td>\n",
       "      <td>3</td>\n",
       "      <td>2.0</td>\n",
       "      <td>NaN</td>\n",
       "      <td>NaN</td>\n",
       "    </tr>\n",
       "    <tr>\n",
       "      <th>555</th>\n",
       "      <td>1159.0</td>\n",
       "      <td>apartment</td>\n",
       "      <td>784.0</td>\n",
       "      <td>1</td>\n",
       "      <td>1.0</td>\n",
       "      <td>NaN</td>\n",
       "      <td>NaN</td>\n",
       "    </tr>\n",
       "    <tr>\n",
       "      <th>579</th>\n",
       "      <td>1230.0</td>\n",
       "      <td>apartment</td>\n",
       "      <td>1221.0</td>\n",
       "      <td>3</td>\n",
       "      <td>2.0</td>\n",
       "      <td>NaN</td>\n",
       "      <td>NaN</td>\n",
       "    </tr>\n",
       "    <tr>\n",
       "      <th>682</th>\n",
       "      <td>1455.0</td>\n",
       "      <td>apartment</td>\n",
       "      <td>1225.0</td>\n",
       "      <td>2</td>\n",
       "      <td>2.0</td>\n",
       "      <td>NaN</td>\n",
       "      <td>NaN</td>\n",
       "    </tr>\n",
       "    <tr>\n",
       "      <th>720</th>\n",
       "      <td>1262.0</td>\n",
       "      <td>apartment</td>\n",
       "      <td>764.0</td>\n",
       "      <td>1</td>\n",
       "      <td>1.0</td>\n",
       "      <td>NaN</td>\n",
       "      <td>NaN</td>\n",
       "    </tr>\n",
       "    <tr>\n",
       "      <th>930</th>\n",
       "      <td>1100.0</td>\n",
       "      <td>apartment</td>\n",
       "      <td>670.0</td>\n",
       "      <td>1</td>\n",
       "      <td>1.0</td>\n",
       "      <td>NaN</td>\n",
       "      <td>NaN</td>\n",
       "    </tr>\n",
       "    <tr>\n",
       "      <th>972</th>\n",
       "      <td>999.0</td>\n",
       "      <td>apartment</td>\n",
       "      <td>705.0</td>\n",
       "      <td>1</td>\n",
       "      <td>1.0</td>\n",
       "      <td>NaN</td>\n",
       "      <td>NaN</td>\n",
       "    </tr>\n",
       "    <tr>\n",
       "      <th>1126</th>\n",
       "      <td>1655.0</td>\n",
       "      <td>apartment</td>\n",
       "      <td>785.0</td>\n",
       "      <td>1</td>\n",
       "      <td>1.0</td>\n",
       "      <td>NaN</td>\n",
       "      <td>NaN</td>\n",
       "    </tr>\n",
       "    <tr>\n",
       "      <th>1175</th>\n",
       "      <td>585.0</td>\n",
       "      <td>apartment</td>\n",
       "      <td>404.0</td>\n",
       "      <td>1</td>\n",
       "      <td>1.0</td>\n",
       "      <td>NaN</td>\n",
       "      <td>NaN</td>\n",
       "    </tr>\n",
       "    <tr>\n",
       "      <th>1192</th>\n",
       "      <td>1050.0</td>\n",
       "      <td>apartment</td>\n",
       "      <td>783.0</td>\n",
       "      <td>1</td>\n",
       "      <td>1.0</td>\n",
       "      <td>NaN</td>\n",
       "      <td>NaN</td>\n",
       "    </tr>\n",
       "    <tr>\n",
       "      <th>1275</th>\n",
       "      <td>1250.0</td>\n",
       "      <td>apartment</td>\n",
       "      <td>585.0</td>\n",
       "      <td>1</td>\n",
       "      <td>1.0</td>\n",
       "      <td>NaN</td>\n",
       "      <td>NaN</td>\n",
       "    </tr>\n",
       "    <tr>\n",
       "      <th>1277</th>\n",
       "      <td>1100.0</td>\n",
       "      <td>apartment</td>\n",
       "      <td>828.0</td>\n",
       "      <td>1</td>\n",
       "      <td>1.0</td>\n",
       "      <td>NaN</td>\n",
       "      <td>NaN</td>\n",
       "    </tr>\n",
       "    <tr>\n",
       "      <th>1280</th>\n",
       "      <td>1100.0</td>\n",
       "      <td>apartment</td>\n",
       "      <td>828.0</td>\n",
       "      <td>1</td>\n",
       "      <td>1.0</td>\n",
       "      <td>NaN</td>\n",
       "      <td>NaN</td>\n",
       "    </tr>\n",
       "    <tr>\n",
       "      <th>1336</th>\n",
       "      <td>1799.0</td>\n",
       "      <td>house</td>\n",
       "      <td>1585.0</td>\n",
       "      <td>3</td>\n",
       "      <td>2.0</td>\n",
       "      <td>NaN</td>\n",
       "      <td>NaN</td>\n",
       "    </tr>\n",
       "    <tr>\n",
       "      <th>1381</th>\n",
       "      <td>1435.0</td>\n",
       "      <td>apartment</td>\n",
       "      <td>859.0</td>\n",
       "      <td>2</td>\n",
       "      <td>1.0</td>\n",
       "      <td>NaN</td>\n",
       "      <td>NaN</td>\n",
       "    </tr>\n",
       "    <tr>\n",
       "      <th>1576</th>\n",
       "      <td>1795.0</td>\n",
       "      <td>apartment</td>\n",
       "      <td>929.0</td>\n",
       "      <td>1</td>\n",
       "      <td>1.0</td>\n",
       "      <td>NaN</td>\n",
       "      <td>NaN</td>\n",
       "    </tr>\n",
       "    <tr>\n",
       "      <th>1952</th>\n",
       "      <td>1990.0</td>\n",
       "      <td>apartment</td>\n",
       "      <td>1016.0</td>\n",
       "      <td>2</td>\n",
       "      <td>2.0</td>\n",
       "      <td>NaN</td>\n",
       "      <td>NaN</td>\n",
       "    </tr>\n",
       "    <tr>\n",
       "      <th>1953</th>\n",
       "      <td>1160.0</td>\n",
       "      <td>apartment</td>\n",
       "      <td>597.0</td>\n",
       "      <td>1</td>\n",
       "      <td>1.0</td>\n",
       "      <td>NaN</td>\n",
       "      <td>NaN</td>\n",
       "    </tr>\n",
       "    <tr>\n",
       "      <th>1980</th>\n",
       "      <td>1858.0</td>\n",
       "      <td>apartment</td>\n",
       "      <td>1306.0</td>\n",
       "      <td>2</td>\n",
       "      <td>2.0</td>\n",
       "      <td>NaN</td>\n",
       "      <td>NaN</td>\n",
       "    </tr>\n",
       "    <tr>\n",
       "      <th>2055</th>\n",
       "      <td>1113.0</td>\n",
       "      <td>apartment</td>\n",
       "      <td>436.0</td>\n",
       "      <td>0</td>\n",
       "      <td>1.0</td>\n",
       "      <td>NaN</td>\n",
       "      <td>NaN</td>\n",
       "    </tr>\n",
       "    <tr>\n",
       "      <th>2258</th>\n",
       "      <td>750.0</td>\n",
       "      <td>apartment</td>\n",
       "      <td>925.0</td>\n",
       "      <td>2</td>\n",
       "      <td>1.0</td>\n",
       "      <td>NaN</td>\n",
       "      <td>NaN</td>\n",
       "    </tr>\n",
       "    <tr>\n",
       "      <th>2310</th>\n",
       "      <td>1668.0</td>\n",
       "      <td>apartment</td>\n",
       "      <td>770.0</td>\n",
       "      <td>1</td>\n",
       "      <td>1.0</td>\n",
       "      <td>NaN</td>\n",
       "      <td>NaN</td>\n",
       "    </tr>\n",
       "    <tr>\n",
       "      <th>2394</th>\n",
       "      <td>2150.0</td>\n",
       "      <td>house</td>\n",
       "      <td>1040.0</td>\n",
       "      <td>2</td>\n",
       "      <td>2.5</td>\n",
       "      <td>NaN</td>\n",
       "      <td>NaN</td>\n",
       "    </tr>\n",
       "    <tr>\n",
       "      <th>2451</th>\n",
       "      <td>1375.0</td>\n",
       "      <td>townhouse</td>\n",
       "      <td>1020.0</td>\n",
       "      <td>1</td>\n",
       "      <td>1.5</td>\n",
       "      <td>NaN</td>\n",
       "      <td>NaN</td>\n",
       "    </tr>\n",
       "    <tr>\n",
       "      <th>2515</th>\n",
       "      <td>1691.0</td>\n",
       "      <td>apartment</td>\n",
       "      <td>1225.0</td>\n",
       "      <td>2</td>\n",
       "      <td>2.0</td>\n",
       "      <td>NaN</td>\n",
       "      <td>NaN</td>\n",
       "    </tr>\n",
       "    <tr>\n",
       "      <th>2533</th>\n",
       "      <td>500.0</td>\n",
       "      <td>duplex</td>\n",
       "      <td>625.0</td>\n",
       "      <td>1</td>\n",
       "      <td>1.0</td>\n",
       "      <td>NaN</td>\n",
       "      <td>NaN</td>\n",
       "    </tr>\n",
       "    <tr>\n",
       "      <th>2549</th>\n",
       "      <td>1355.0</td>\n",
       "      <td>apartment</td>\n",
       "      <td>790.0</td>\n",
       "      <td>1</td>\n",
       "      <td>1.0</td>\n",
       "      <td>NaN</td>\n",
       "      <td>NaN</td>\n",
       "    </tr>\n",
       "    <tr>\n",
       "      <th>3060</th>\n",
       "      <td>775.0</td>\n",
       "      <td>apartment</td>\n",
       "      <td>577.0</td>\n",
       "      <td>1</td>\n",
       "      <td>1.0</td>\n",
       "      <td>NaN</td>\n",
       "      <td>NaN</td>\n",
       "    </tr>\n",
       "    <tr>\n",
       "      <th>3075</th>\n",
       "      <td>1499.0</td>\n",
       "      <td>apartment</td>\n",
       "      <td>1202.0</td>\n",
       "      <td>3</td>\n",
       "      <td>2.0</td>\n",
       "      <td>NaN</td>\n",
       "      <td>NaN</td>\n",
       "    </tr>\n",
       "    <tr>\n",
       "      <th>3100</th>\n",
       "      <td>2274.0</td>\n",
       "      <td>apartment</td>\n",
       "      <td>1411.0</td>\n",
       "      <td>2</td>\n",
       "      <td>2.0</td>\n",
       "      <td>NaN</td>\n",
       "      <td>NaN</td>\n",
       "    </tr>\n",
       "    <tr>\n",
       "      <th>3263</th>\n",
       "      <td>2440.0</td>\n",
       "      <td>apartment</td>\n",
       "      <td>1444.0</td>\n",
       "      <td>3</td>\n",
       "      <td>2.0</td>\n",
       "      <td>NaN</td>\n",
       "      <td>NaN</td>\n",
       "    </tr>\n",
       "    <tr>\n",
       "      <th>3350</th>\n",
       "      <td>500.0</td>\n",
       "      <td>duplex</td>\n",
       "      <td>625.0</td>\n",
       "      <td>1</td>\n",
       "      <td>1.0</td>\n",
       "      <td>NaN</td>\n",
       "      <td>NaN</td>\n",
       "    </tr>\n",
       "    <tr>\n",
       "      <th>3495</th>\n",
       "      <td>2250.0</td>\n",
       "      <td>apartment</td>\n",
       "      <td>874.0</td>\n",
       "      <td>1</td>\n",
       "      <td>1.0</td>\n",
       "      <td>NaN</td>\n",
       "      <td>NaN</td>\n",
       "    </tr>\n",
       "    <tr>\n",
       "      <th>3600</th>\n",
       "      <td>725.0</td>\n",
       "      <td>apartment</td>\n",
       "      <td>1098.0</td>\n",
       "      <td>2</td>\n",
       "      <td>1.0</td>\n",
       "      <td>NaN</td>\n",
       "      <td>NaN</td>\n",
       "    </tr>\n",
       "    <tr>\n",
       "      <th>3868</th>\n",
       "      <td>700.0</td>\n",
       "      <td>house</td>\n",
       "      <td>896.0</td>\n",
       "      <td>2</td>\n",
       "      <td>1.0</td>\n",
       "      <td>NaN</td>\n",
       "      <td>NaN</td>\n",
       "    </tr>\n",
       "    <tr>\n",
       "      <th>4195</th>\n",
       "      <td>1490.0</td>\n",
       "      <td>apartment</td>\n",
       "      <td>699.0</td>\n",
       "      <td>1</td>\n",
       "      <td>1.0</td>\n",
       "      <td>NaN</td>\n",
       "      <td>NaN</td>\n",
       "    </tr>\n",
       "    <tr>\n",
       "      <th>4322</th>\n",
       "      <td>1478.0</td>\n",
       "      <td>apartment</td>\n",
       "      <td>817.0</td>\n",
       "      <td>1</td>\n",
       "      <td>1.0</td>\n",
       "      <td>NaN</td>\n",
       "      <td>NaN</td>\n",
       "    </tr>\n",
       "    <tr>\n",
       "      <th>4532</th>\n",
       "      <td>630.0</td>\n",
       "      <td>apartment</td>\n",
       "      <td>600.0</td>\n",
       "      <td>1</td>\n",
       "      <td>1.0</td>\n",
       "      <td>NaN</td>\n",
       "      <td>NaN</td>\n",
       "    </tr>\n",
       "    <tr>\n",
       "      <th>4616</th>\n",
       "      <td>639.0</td>\n",
       "      <td>apartment</td>\n",
       "      <td>950.0</td>\n",
       "      <td>2</td>\n",
       "      <td>2.0</td>\n",
       "      <td>NaN</td>\n",
       "      <td>NaN</td>\n",
       "    </tr>\n",
       "    <tr>\n",
       "      <th>4620</th>\n",
       "      <td>1245.0</td>\n",
       "      <td>apartment</td>\n",
       "      <td>1045.0</td>\n",
       "      <td>2</td>\n",
       "      <td>2.0</td>\n",
       "      <td>NaN</td>\n",
       "      <td>NaN</td>\n",
       "    </tr>\n",
       "    <tr>\n",
       "      <th>4757</th>\n",
       "      <td>1139.0</td>\n",
       "      <td>apartment</td>\n",
       "      <td>784.0</td>\n",
       "      <td>1</td>\n",
       "      <td>1.0</td>\n",
       "      <td>NaN</td>\n",
       "      <td>NaN</td>\n",
       "    </tr>\n",
       "    <tr>\n",
       "      <th>4771</th>\n",
       "      <td>650.0</td>\n",
       "      <td>house</td>\n",
       "      <td>672.0</td>\n",
       "      <td>2</td>\n",
       "      <td>1.0</td>\n",
       "      <td>NaN</td>\n",
       "      <td>NaN</td>\n",
       "    </tr>\n",
       "  </tbody>\n",
       "</table>\n",
       "</div>"
      ],
      "text/plain": [
       "       price       type  square_feet  beds  baths  latitude  longitude\n",
       "117   2355.0  apartment       1628.0     3    2.5       NaN        NaN\n",
       "414    689.0  apartment        950.0     2    2.0       NaN        NaN\n",
       "434   2205.0  apartment        816.0     1    1.0       NaN        NaN\n",
       "504   1499.0  apartment       1202.0     3    2.0       NaN        NaN\n",
       "555   1159.0  apartment        784.0     1    1.0       NaN        NaN\n",
       "579   1230.0  apartment       1221.0     3    2.0       NaN        NaN\n",
       "682   1455.0  apartment       1225.0     2    2.0       NaN        NaN\n",
       "720   1262.0  apartment        764.0     1    1.0       NaN        NaN\n",
       "930   1100.0  apartment        670.0     1    1.0       NaN        NaN\n",
       "972    999.0  apartment        705.0     1    1.0       NaN        NaN\n",
       "1126  1655.0  apartment        785.0     1    1.0       NaN        NaN\n",
       "1175   585.0  apartment        404.0     1    1.0       NaN        NaN\n",
       "1192  1050.0  apartment        783.0     1    1.0       NaN        NaN\n",
       "1275  1250.0  apartment        585.0     1    1.0       NaN        NaN\n",
       "1277  1100.0  apartment        828.0     1    1.0       NaN        NaN\n",
       "1280  1100.0  apartment        828.0     1    1.0       NaN        NaN\n",
       "1336  1799.0      house       1585.0     3    2.0       NaN        NaN\n",
       "1381  1435.0  apartment        859.0     2    1.0       NaN        NaN\n",
       "1576  1795.0  apartment        929.0     1    1.0       NaN        NaN\n",
       "1952  1990.0  apartment       1016.0     2    2.0       NaN        NaN\n",
       "1953  1160.0  apartment        597.0     1    1.0       NaN        NaN\n",
       "1980  1858.0  apartment       1306.0     2    2.0       NaN        NaN\n",
       "2055  1113.0  apartment        436.0     0    1.0       NaN        NaN\n",
       "2258   750.0  apartment        925.0     2    1.0       NaN        NaN\n",
       "2310  1668.0  apartment        770.0     1    1.0       NaN        NaN\n",
       "2394  2150.0      house       1040.0     2    2.5       NaN        NaN\n",
       "2451  1375.0  townhouse       1020.0     1    1.5       NaN        NaN\n",
       "2515  1691.0  apartment       1225.0     2    2.0       NaN        NaN\n",
       "2533   500.0     duplex        625.0     1    1.0       NaN        NaN\n",
       "2549  1355.0  apartment        790.0     1    1.0       NaN        NaN\n",
       "3060   775.0  apartment        577.0     1    1.0       NaN        NaN\n",
       "3075  1499.0  apartment       1202.0     3    2.0       NaN        NaN\n",
       "3100  2274.0  apartment       1411.0     2    2.0       NaN        NaN\n",
       "3263  2440.0  apartment       1444.0     3    2.0       NaN        NaN\n",
       "3350   500.0     duplex        625.0     1    1.0       NaN        NaN\n",
       "3495  2250.0  apartment        874.0     1    1.0       NaN        NaN\n",
       "3600   725.0  apartment       1098.0     2    1.0       NaN        NaN\n",
       "3868   700.0      house        896.0     2    1.0       NaN        NaN\n",
       "4195  1490.0  apartment        699.0     1    1.0       NaN        NaN\n",
       "4322  1478.0  apartment        817.0     1    1.0       NaN        NaN\n",
       "4532   630.0  apartment        600.0     1    1.0       NaN        NaN\n",
       "4616   639.0  apartment        950.0     2    2.0       NaN        NaN\n",
       "4620  1245.0  apartment       1045.0     2    2.0       NaN        NaN\n",
       "4757  1139.0  apartment        784.0     1    1.0       NaN        NaN\n",
       "4771   650.0      house        672.0     2    1.0       NaN        NaN"
      ]
     },
     "execution_count": 8,
     "metadata": {},
     "output_type": "execute_result"
    }
   ],
   "source": [
    "# found some! Let's take a closer look at these values\n",
    "rentals[rentals.isnull().any(axis=1)]"
   ]
  },
  {
   "cell_type": "markdown",
   "id": "152ee431-fc58-45a9-9712-3c2812bd419d",
   "metadata": {},
   "source": [
    "---\n",
    "Okay, we've found the null values and examined them across each observation. There doesn't appear to be any rhyme or reason. The values might have just been left out. \n",
    "\n",
    "```A possible reason for missing long/lat values on locations is new construction or new street location. Many APIs for companies like Zillow or Redfin pull this information based on GIS. Some new locations haven't been registered, so it's a possible reason for the missing value.```\n",
    "\n",
    "Let's go ahead and validate the top/freq"
   ]
  },
  {
   "cell_type": "code",
   "execution_count": 9,
   "id": "2df66727-3467-4340-ad73-998ef5d4dddd",
   "metadata": {},
   "outputs": [
    {
     "data": {
      "text/plain": [
       "type\n",
       "apartment        4396\n",
       "house             296\n",
       "manufactured       86\n",
       "townhouse          80\n",
       "condo              54\n",
       "duplex             44\n",
       "loft               12\n",
       "flat                9\n",
       "cottage/cabin       3\n",
       "in-law              1\n",
       "Name: count, dtype: Int64"
      ]
     },
     "execution_count": 9,
     "metadata": {},
     "output_type": "execute_result"
    }
   ],
   "source": [
    "rentals.type.value_counts()"
   ]
  },
  {
   "cell_type": "markdown",
   "id": "b6ba5423-5001-4c43-8b66-3936230de4ae",
   "metadata": {},
   "source": [
    "---\n",
    "Awesome. This checks out. "
   ]
  },
  {
   "cell_type": "markdown",
   "id": "1377ab92-58cc-4a7c-883c-11c7b9d057b9",
   "metadata": {},
   "source": [
    "### Scatter Plots: Viewing Numbers Against Numbers\n",
    "\n",
    "Scatter plots are a great way to find a linear relationship between two quantitative variables across multiple observations. "
   ]
  },
  {
   "cell_type": "code",
   "execution_count": 10,
   "id": "0f90a700-4e05-4f3d-868a-d038ef9bab37",
   "metadata": {},
   "outputs": [
    {
     "data": {
      "image/png": "[encoded data removed]",
      "text/plain": [
       "<Figure size 640x480 with 1 Axes>"
      ]
     },
     "metadata": {},
     "output_type": "display_data"
    }
   ],
   "source": [
    "# We need to import our handy lib to do the vis work.\n",
    "import matplotlib.pyplot as plt\n",
    "\n",
    "plt.xlabel('Number of Beds') \n",
    "plt.ylabel('Square Footage')\n",
    "plt.scatter(x=rentals.beds, y=rentals.square_feet)\n",
    "plt.show()\n",
    "plt.close()"
   ]
  },
  {
   "cell_type": "markdown",
   "id": "de61a677-6f84-4c52-a35b-b14b047a1509",
   "metadata": {},
   "source": [
    "You'll notice that we have what looks periodic, because the plot isn't continuous. This is because the number of beds is a discrete variable. This is a normal phenomenon when working with discrete variables. \n",
    "\n",
    "The advantage of discrete variables is that it makes relationships between each discrete variable very clear. \n",
    "\n",
    "\n",
    "**Observations:**\n",
    "- We can see several observations of unreasonably low square footage and 0 beds. \n",
    "- Generally, we see that an increase in square footage shows an increase in the number of bedrooms. This makes sense, because bedrooms take up space, so more bedrooms would (reasonably) increase the square_footage of a rental.\n",
    "- The 7 bedrooms looks like an outlier based on its separation from the rest of the data.\n",
    "- The 5 bedrooms is fairy interesting, because it's clumped around a few square footage values. This could be due to the lack of samples related to the details of the offerings (i.e. a particular apartment complex layout that offers these features,etc.)\n",
    "\n",
    "#### Why do we use scatter plots? \n",
    "\n",
    "I told you already! We use it to try to define and identify relationships and associations between 2 quantitative variables. Our eyes are powerful machines for analysis; however, our brains can easily make mistakes perceiving this information and we are prone to picking out patterns that aren't actually there. This means we need some other tools to validate our findings. Math tends to help out..."
   ]
  },
  {
   "cell_type": "markdown",
   "id": "b88dec8e-cffd-48bd-892e-65704c166c37",
   "metadata": {},
   "source": [
    "### Covariance\n",
    "\n",
    "This is summary statistics that describes the *strength* of a linear relationship between observations across multiple variables. \n",
    "\n",
    "- **positive** covariance is a linear relationship that draws from the bottom left to the top right of a scatter plot. This shows a relationship between larger values of one variable and larger values of another. A good example, might be height and pants size.\n",
    "- **negative** covariance is a linear relationship that draws from the top left to the bottom right. This shows a relationship between larger values of one value and smaller values of the other. This is also known as an *inverse proportional* relationship. A good example might be as external temperature goes down, heating costs go up.\n",
    "- **zero** covariance is when a scatter plot looks...scattered. There is no discernable linear relationship\n",
    "\n",
    "\n",
    "\n",
    "![Covariance Figure](./covariance_fig1.svg)\n",
    "\n",
    "*Figure 1: Demonstrates Scatter Plot and Covariance*\n",
    "\n",
    "What a covariance matrix looks like for two (or more) variables. \n",
    "\n",
    "| | variable 1 | variable 2 | \n",
    "|-|-|-|\n",
    "| variable 1 | variance (variable 1) | covariance | \n",
    "| variable 2 | covariance | variance (variable 2) |\n",
    "\n",
    "Let's explain these values to understand how the matrix is calculated. \n",
    "\n",
    "**variance**\n",
    "For a population, we divide the sum of *squared deviations* by the number of data points\n",
    "For a sample, we divide by n - 1 (This is called **Bessel's correction**.) I'm going to hand wave over the theory right now, but generally speaking we rarely have access to an entire population, so we more often than not will be using this calculation. \n",
    "\n",
    "**TBD add the math equations??**\n",
    "\n",
    "\n",
    "Let's assume we have a data set of ```[1,2,3,4,5]``` for variable 1 and ```[2,4,6,8,10]``` for variable2. \n",
    "\n",
    "1. We have to calculate the mean\n",
    "\n",
    "variable 1: (1 + 2 + 3 + 4 + 5) / 5 = 15 / 5 = **3**\n",
    "\n",
    "variable 2: (2 + 4 + 6 + 8 + 10) / 5 = 30/5 = **6**\n",
    "\n",
    "2. We calculate the *deviation* of each mean, which is subtracting the mean from each data point.\n",
    "\n",
    "variable 1\n",
    "- 1 - 3 = **-2**\n",
    "- 2 - 3 = **-1**\n",
    "- 3 - 3 = **0**\n",
    "- 4 - 3 = **1**\n",
    "- 5 - 3 = **2**\n",
    "\n",
    "variable 2\n",
    "- 2 - 6 = **-4**\n",
    "- 4 - 6 = **-2**\n",
    "- 6 - 6 = **0**\n",
    "- 8 - 6 = **2**\n",
    "- 10 - 6 = **4**\n",
    "\n",
    "3.  Now we square each deviation *note: this is one method for ensuring that negative/positive values don't cancel each other out. However, one of the limitations of using squared values is that the results are no longer related to the context of the data point, i.e. they are hard to interpret. This is one of the reasons that the **mean absolute deviation** uses the absolute value*\n",
    "\n",
    "variable 1 = ```[4, 1, 0, 1, 4]```\n",
    "variable 2 = ```[16, 4, 0, 4, 16]```\n",
    "\n",
    "*When you compare this to the initial data points and even the deviations alone, you can see the skew that is beginning to happen*\n",
    "\n",
    "4.  Add up the squared deviations. (This is the part that led to step 3. Summing positive and negative values after calculating deviations often leads to canceling out values in normal distributions.)\n",
    "\n",
    "variable 1: **10**\n",
    "variable 2: **40**\n",
    "\n",
    "5.  Let's do the final calculation.\n",
    "\n",
    "If this were the entire population: \n",
    "- variable 1: 10 / 5 = **2**\n",
    "- variable 2: 40 / 5 = **8**\n",
    "\n",
    "If this were a sample, we use Bessel's correction:\n",
    "- variable 1: 10 / (5 - 1) = **2.5**\n",
    "- variable 2: 40 / (5 - 1) = **10**\n",
    "\n",
    "**covariance**\n",
    "This is the calculation we are looking for. It involves measuring the degree to which two variables change together. \n",
    "\n",
    "1. We need to calculate the mean (we did that already)\n",
    "\n",
    "variable 1: **3**\n",
    "\n",
    "variable 2: **6**\n",
    "\n",
    "2. We calculate the *deviations* from the mean. (we did that too!)\n",
    "\n",
    "variable 1: ```[-2, -1, 0, 1, 2]```\n",
    "variable 2: ```[-4, -2, 0, 2, 4]```\n",
    "\n",
    "3. Now we multiply the associated deviations from variable 1 against variable 2.\n",
    "\n",
    "co-products: \n",
    "- -2 * -4 = **8**\n",
    "- -1 * -2 = **2**\n",
    "- 0 * 0 = **0**\n",
    "- 1 * 2 = **2**\n",
    "- 2 * 4 = **8**\n",
    "\n",
    "4. Calculate the sum of those values\n",
    "\n",
    "8 + 2 + 0 + 2 + 8 = **20**\n",
    "\n",
    "5. The final calculation is the same for covariance as it is for variance. We divide by *n* for whole populations or **Bessel's correction** *(n-1)* for samples.\n",
    "\n",
    "for a population: 20 / 5 = **4**\n",
    "for a sample 20 / (5 - 1) = **5**\n",
    "\n",
    "---\n",
    "\n",
    "This is a lot of math, but python does this work for us. We're going to calculate the variance of each variable,then we're going to calculate the covariance to validate the variance calculations as well as obtain the variance. (Use the table provided above to decypher the matrix output of ```cov()```)"
   ]
  },
  {
   "cell_type": "code",
   "execution_count": 14,
   "id": "a9986f2b-8593-42a0-9b2c-e86910e8b2c8",
   "metadata": {},
   "outputs": [
    {
     "data": {
      "text/plain": [
       "0       0\n",
       "1       1\n",
       "2       1\n",
       "3       1\n",
       "4       2\n",
       "       ..\n",
       "4976    2\n",
       "4977    1\n",
       "4978    1\n",
       "4979    1\n",
       "4980    2\n",
       "Name: beds, Length: 4981, dtype: int64"
      ]
     },
     "execution_count": 14,
     "metadata": {},
     "output_type": "execute_result"
    }
   ],
   "source": [
    "# First let's show bedrooms\n",
    "rentals.beds"
   ]
  },
  {
   "cell_type": "code",
   "execution_count": 15,
   "id": "8bc4e499-a8a4-47e1-a093-d72ee771f9d8",
   "metadata": {},
   "outputs": [
    {
     "name": "stdout",
     "output_type": "stream",
     "text": [
      "Mean - Bedrooms: 1.7201365187713311\n",
      "Deviations - Bedrooms: \n"
     ]
    },
    {
     "data": {
      "text/plain": [
       "0      -1.720137\n",
       "1      -0.720137\n",
       "2      -0.720137\n",
       "3      -0.720137\n",
       "4       0.279863\n",
       "          ...   \n",
       "4976    0.279863\n",
       "4977   -0.720137\n",
       "4978   -0.720137\n",
       "4979   -0.720137\n",
       "4980    0.279863\n",
       "Name: beds, Length: 4981, dtype: float64"
      ]
     },
     "execution_count": 15,
     "metadata": {},
     "output_type": "execute_result"
    }
   ],
   "source": [
    "# Now let's calculate the mean for beds and use that mean to calculate the deviations. \n",
    "beds_mean = rentals.beds.mean() # Rawr\n",
    "beds_deviations = rentals.beds - beds_mean\n",
    "\n",
    "print(f'Mean - Bedrooms: {beds_mean}')\n",
    "print(f'Deviations - Bedrooms: ')\n",
    "beds_deviations"
   ]
  },
  {
   "cell_type": "code",
   "execution_count": 20,
   "id": "5f9e7c64-82ae-459d-a3fe-31fe12fa2875",
   "metadata": {},
   "outputs": [
    {
     "data": {
      "text/plain": [
       "0       2.958870\n",
       "1       0.518597\n",
       "2       0.518597\n",
       "3       0.518597\n",
       "4       0.078324\n",
       "          ...   \n",
       "4976    0.078324\n",
       "4977    0.518597\n",
       "4978    0.518597\n",
       "4979    0.518597\n",
       "4980    0.078324\n",
       "Name: beds, Length: 4981, dtype: float64"
      ]
     },
     "execution_count": 20,
     "metadata": {},
     "output_type": "execute_result"
    }
   ],
   "source": [
    "# Quick inspection checks out looks good.. let's keep going. \n",
    "\n",
    "# Now we need to calculate the squared deviations before we sum them. \n",
    "beds_squared_deviations = beds_deviations.apply(lambda x: x * x)\n",
    "beds_squared_deviations"
   ]
  },
  {
   "cell_type": "code",
   "execution_count": 21,
   "id": "faf619e1-93be-4886-b9c4-31005c8f9540",
   "metadata": {},
   "outputs": [
    {
     "data": {
      "text/plain": [
       "3607.8703071672358"
      ]
     },
     "execution_count": 21,
     "metadata": {},
     "output_type": "execute_result"
    }
   ],
   "source": [
    "# Another quick inspection looks good... let's keep going\n",
    "\n",
    "# calculate the sum of the squared deviations. \n",
    "sum_beds_squared_deviations = beds_squared_deviations.sum()\n",
    "sum_beds_squared_deviations"
   ]
  },
  {
   "cell_type": "code",
   "execution_count": 23,
   "id": "c135583a-2c65-4bd4-9e71-5cf083843eb7",
   "metadata": {},
   "outputs": [
    {
     "name": "stdout",
     "output_type": "stream",
     "text": [
      "Variance of Bedrooms (Population): 0.7243265021415852\n",
      "Variance of Bedrooms (Sample)    : 0.7244719492303686\n"
     ]
    }
   ],
   "source": [
    "# let's bring it home. We're going to calculate it for a sample or population and print both\n",
    "n = len(rentals.beds)\n",
    "print(f'Variance of Bedrooms (Population): {sum_beds_squared_deviations / n}')\n",
    "print(f'Variance of Bedrooms (Sample)    : {sum_beds_squared_deviations / (n - 1)}')"
   ]
  },
  {
   "cell_type": "code",
   "execution_count": 24,
   "id": "e7f2bf69-2de3-438a-9559-8c0758ac7ca0",
   "metadata": {},
   "outputs": [
    {
     "data": {
      "text/plain": [
       "0.7244719492303704"
      ]
     },
     "execution_count": 24,
     "metadata": {},
     "output_type": "execute_result"
    }
   ],
   "source": [
    "# let's check our work. \n",
    "rentals.beds.var()"
   ]
  },
  {
   "cell_type": "markdown",
   "id": "1b872ef3-bf23-45e4-99f2-f625cb1cb729",
   "metadata": {},
   "source": [
    "---\n",
    "We've learned a few things\n",
    "1. the ```var()``` method assumes you are using a sample, not the full population. For many statistics this is a good assumption.\n",
    "2. there is a ```var()``` method that makes this so so so much easier.\n",
    "3. I like to tell you about those things after making you do the hard part.\n",
    "4. The manual calculation is different than the direct calculation. This is due to some rounding, truncating and general screwyness w/ math in python (and any programming language). The rule of thumb is trust the direct method... ```var()```"
   ]
  },
  {
   "cell_type": "code",
   "execution_count": 33,
   "id": "82041032-2e55-42c2-a528-c7026ce0ce00",
   "metadata": {},
   "outputs": [
    {
     "name": "stdout",
     "output_type": "stream",
     "text": [
      "Square Feet Values: \n",
      "0        364.0\n",
      "1        816.0\n",
      "2        500.0\n",
      "3        700.0\n",
      "4       1040.0\n",
      "         ...  \n",
      "4976     987.0\n",
      "4977     765.0\n",
      "4978     668.0\n",
      "4979     841.0\n",
      "4980     680.0\n",
      "Name: square_feet, Length: 4981, dtype: float64\n",
      "\n",
      "Mean Square Footage: 891.0222846817908\n",
      "\n",
      "Square Feet Deviations: \n",
      "0      -527.022285\n",
      "1       -75.022285\n",
      "2      -391.022285\n",
      "3      -191.022285\n",
      "4       148.977715\n",
      "           ...    \n",
      "4976     95.977715\n",
      "4977   -126.022285\n",
      "4978   -223.022285\n",
      "4979    -50.022285\n",
      "4980   -211.022285\n",
      "Name: square_feet, Length: 4981, dtype: float64\n",
      "\n",
      "Square Feet Squared Deviations: \n",
      "0       277752.488551\n",
      "1         5628.343199\n",
      "2       152898.427118\n",
      "3        36489.513245\n",
      "4        22194.359661\n",
      "            ...      \n",
      "4976      9211.721838\n",
      "4977     15881.616236\n",
      "4978     49738.939465\n",
      "4979      2502.228965\n",
      "4980     44530.404632\n",
      "Name: square_feet, Length: 4981, dtype: float64\n",
      "\n",
      "Sum of Squared Deviations: 551131510.5264003\n",
      "Square Footage Variance (Population): 110646.75979249153\n",
      "Square Footage Variance (Sample)    : 110668.97801734947\n"
     ]
    }
   ],
   "source": [
    "# We're going to repeat the steps for square footage, but I will do it all in a single notebook cell. \n",
    "sqft_mean = rentals.square_feet.mean() # Rawr! mean square feet.\n",
    "sqft_deviations = rentals.square_feet - sqft_mean\n",
    "sqft_squared_deviations = sqft_deviations.apply(lambda x: x * x)\n",
    "sum_sqft_squared_deviations = sqft_squared_deviations.sum()\n",
    "n = len(rentals.square_feet)\n",
    "population_variance = sum_sqft_squared_deviations / n\n",
    "sample_variance = sum_sqft_squared_deviations / (n - 1)\n",
    "\n",
    "print(f'Square Feet Values: ')\n",
    "print(rentals.square_feet)\n",
    "print()\n",
    "print(f'Mean Square Footage: {sqft_mean}')\n",
    "print()\n",
    "print(f'Square Feet Deviations: ')\n",
    "print(sqft_deviations)\n",
    "print()\n",
    "print(f'Square Feet Squared Deviations: ')\n",
    "print(sqft_squared_deviations)\n",
    "print()\n",
    "print(f'Sum of Squared Deviations: {sum_sqft_squared_deviations}')\n",
    "print(f'Square Footage Variance (Population): {population_variance}')\n",
    "print(f'Square Footage Variance (Sample)    : {sample_variance}')\n",
    "# Go through the output and check to make sure everything makes sense to you."
   ]
  },
  {
   "cell_type": "code",
   "execution_count": 35,
   "id": "a06616fd-b0f1-4843-b533-a06729e0cbe8",
   "metadata": {},
   "outputs": [
    {
     "data": {
      "text/plain": [
       "110668.97801734894"
      ]
     },
     "execution_count": 35,
     "metadata": {},
     "output_type": "execute_result"
    }
   ],
   "source": [
    "# Let's calculate the variance to check our work!\n",
    "rentals.square_feet.var()"
   ]
  },
  {
   "cell_type": "markdown",
   "id": "f3209466-d1b4-4745-848c-2ce658b00b6f",
   "metadata": {},
   "source": [
    "You probably noticed the discrepancy again. (Trust the direct method!) \n",
    "\n",
    "---\n",
    "\n",
    "Let's go through the same exercise w/ covariance. "
   ]
  },
  {
   "cell_type": "code",
   "execution_count": 40,
   "id": "19de8fe3-295d-4e0f-8636-23765b1007ef",
   "metadata": {},
   "outputs": [
    {
     "name": "stdout",
     "output_type": "stream",
     "text": [
      "Mean - Bedrooms        : 1.7201365187713311\n",
      "Mean - Square Footage  : 891.0222846817908\n"
     ]
    }
   ],
   "source": [
    "# Let's just print out the mean for bedrooms and square footage to remind ourselves\n",
    "\n",
    "# Note if you hit tab when typing, the in scope variable swill show up in the tab completion drop down. Very handy!\n",
    "\n",
    "print(f'Mean - Bedrooms        : {beds_mean}')\n",
    "print(f'Mean - Square Footage  : {sqft_mean}')"
   ]
  },
  {
   "cell_type": "code",
   "execution_count": 42,
   "id": "a97a0d84-8298-4edb-b590-d7b7cc3a2cf9",
   "metadata": {},
   "outputs": [
    {
     "name": "stdout",
     "output_type": "stream",
     "text": [
      "Deviations - Bedrooms: \n",
      "\n",
      "0      -1.720137\n",
      "1      -0.720137\n",
      "2      -0.720137\n",
      "3      -0.720137\n",
      "4       0.279863\n",
      "          ...   \n",
      "4976    0.279863\n",
      "4977   -0.720137\n",
      "4978   -0.720137\n",
      "4979   -0.720137\n",
      "4980    0.279863\n",
      "Name: beds, Length: 4981, dtype: float64\n",
      "\n",
      "Deviations - Square Footage: \n",
      "\n",
      "0      -527.022285\n",
      "1       -75.022285\n",
      "2      -391.022285\n",
      "3      -191.022285\n",
      "4       148.977715\n",
      "           ...    \n",
      "4976     95.977715\n",
      "4977   -126.022285\n",
      "4978   -223.022285\n",
      "4979    -50.022285\n",
      "4980   -211.022285\n",
      "Name: square_feet, Length: 4981, dtype: float64\n"
     ]
    }
   ],
   "source": [
    "# Let's print out the deviations for each of our variables\n",
    "\n",
    "print(f'Deviations - Bedrooms: ')\n",
    "print()\n",
    "print(beds_deviations)\n",
    "print()\n",
    "print(f'Deviations - Square Footage: ')\n",
    "print()\n",
    "print(sqft_deviations)"
   ]
  },
  {
   "cell_type": "code",
   "execution_count": 43,
   "id": "41c0ca1f-fb05-4c3b-aec8-34067265b006",
   "metadata": {},
   "outputs": [
    {
     "data": {
      "text/plain": [
       "0       906.550278\n",
       "1        54.026287\n",
       "2       281.589427\n",
       "3       137.562123\n",
       "4        41.693422\n",
       "           ...    \n",
       "4976     26.860658\n",
       "4977     90.753249\n",
       "4978    160.606492\n",
       "4979     36.022874\n",
       "4980    -59.057431\n",
       "Length: 4981, dtype: float64"
      ]
     },
     "execution_count": 43,
     "metadata": {},
     "output_type": "execute_result"
    }
   ],
   "source": [
    "# now let's create the product of the deviations\n",
    "product_of_deviations = beds_deviations * sqft_deviations\n",
    "product_of_deviations"
   ]
  },
  {
   "cell_type": "code",
   "execution_count": 46,
   "id": "d691ea49-67be-42ff-828e-dbe0f62bdfd3",
   "metadata": {},
   "outputs": [
    {
     "data": {
      "text/plain": [
       "1136552.0648464165"
      ]
     },
     "execution_count": 46,
     "metadata": {},
     "output_type": "execute_result"
    }
   ],
   "source": [
    "# Calculate the sum of the products\n",
    "sum_of_product_of_deviations = product_of_deviations.sum()\n",
    "sum_of_product_of_deviations"
   ]
  },
  {
   "cell_type": "code",
   "execution_count": 48,
   "id": "68076d87-ba55-419d-8378-118d1c3ff020",
   "metadata": {},
   "outputs": [
    {
     "name": "stdout",
     "output_type": "stream",
     "text": [
      "Population Covariance  :  228.17748742148493\n",
      "Sample Covariance      :  228.22330619405955\n"
     ]
    }
   ],
   "source": [
    "# Calculate covariance for pop and sample. \n",
    "n = len(rentals)\n",
    "population_covariance = sum_of_product_of_deviations / n\n",
    "sample_covariance = sum_of_product_of_deviations / ( n - 1 )\n",
    "\n",
    "print(f'Population Covariance  :  {population_covariance}')\n",
    "print(f'Sample Covariance      :  {sample_covariance}')"
   ]
  },
  {
   "cell_type": "code",
   "execution_count": 51,
   "id": "7f9b71c6-57d8-4d8b-b1e7-6ddf615c5d09",
   "metadata": {},
   "outputs": [
    {
     "data": {
      "text/plain": [
       "array([[7.24471949e-01, 2.28223306e+02],\n",
       "       [2.28223306e+02, 1.10668978e+05]])"
      ]
     },
     "execution_count": 51,
     "metadata": {},
     "output_type": "execute_result"
    }
   ],
   "source": [
    "# check out our work! (Don't worry about the usage of the cov() method just yet) \n",
    "\n",
    "# this is where we calculate covariance\n",
    "import numpy as np\n",
    "\n",
    "\n",
    "covariance = np.cov(rentals.beds, rentals.square_feet)\n",
    "covariance"
   ]
  },
  {
   "cell_type": "markdown",
   "id": "a4954177-aa8d-49ef-aa12-7acfde2f6670",
   "metadata": {},
   "source": [
    "Ok, that is some ugly output. \n",
    "\n",
    "We can see our variance for beds (top left) is accurate\n",
    "We can see our variance for square feet (bottom right) is accurate. \n",
    "Covariance (top right, bottom left) are accurate. \n",
    "\n",
    "Let's fix the output by playing w/ ```numpy.set_printoptions()```. There are two settings you'll likely use fairly often to generate cleaner output\n",
    "- ```suppress=True``` This prints floating point numbers as fixed point notation. This is especially useful for displaying zero. Due to the limitations of coding languages, we often end up with values that equate to zero, but are reflected as tiny values in scientific notation. We usually don't want that.\n",
    "- ```precision=#```: This is the decimal precision we'd like to see. It's usually not forever. :) "
   ]
  },
  {
   "cell_type": "code",
   "execution_count": 52,
   "id": "bf9143cd-0a34-4bae-8353-1839e3121e18",
   "metadata": {},
   "outputs": [
    {
     "data": {
      "text/plain": [
       "array([[     0.724,    228.223],\n",
       "       [   228.223, 110668.978]])"
      ]
     },
     "execution_count": 52,
     "metadata": {},
     "output_type": "execute_result"
    }
   ],
   "source": [
    "np.set_printoptions(suppress=True, precision=3)\n",
    "covariance"
   ]
  },
  {
   "cell_type": "markdown",
   "id": "c6de799d-cf17-4ced-a45a-8b6f2ec748bb",
   "metadata": {},
   "source": [
    "Neat. Math!\n",
    "\n",
    "What it tells us\n",
    "- Positive covariance tells us that there is an association and it's proportional. As numbers increase in one variable, they tend to increase in the other. We kind of saw that in the scatter plot.\n",
    "- The magnitude (or value) indicates the strength of the relationship.\n",
    "\n",
    "What it does **not** tell us: \n",
    "- The magnitude is actually kind of useless. Even though it indicates the strength of the relationship, it's not every easy for us to interpret or compare between different pairs of variables.\n",
    "\n",
    "\n",
    "Do you know why? Let's look at the variables to come up w/ some answers. "
   ]
  },
  {
   "cell_type": "code",
   "execution_count": 53,
   "id": "a66a488a-7b22-4e61-b826-29de750c2f73",
   "metadata": {},
   "outputs": [
    {
     "data": {
      "text/plain": [
       "7"
      ]
     },
     "execution_count": 53,
     "metadata": {},
     "output_type": "execute_result"
    }
   ],
   "source": [
    "# let's calculate the range of bedrooms\n",
    "rentals.beds.max() - rentals.beds.min()"
   ]
  },
  {
   "cell_type": "code",
   "execution_count": 54,
   "id": "c49bdd6e-75ce-43f2-b4f0-d909bc05f573",
   "metadata": {},
   "outputs": [
    {
     "data": {
      "text/plain": [
       "2955.0"
      ]
     },
     "execution_count": 54,
     "metadata": {},
     "output_type": "execute_result"
    }
   ],
   "source": [
    "# Do it again for square footage\n",
    "rentals.square_feet.max() - rentals.square_feet.min()"
   ]
  },
  {
   "cell_type": "markdown",
   "id": "588b2380-d317-41cf-a253-e394f43a1b9c",
   "metadata": {},
   "source": [
    "Have you figured it out yet??\n",
    "\n",
    "Exactly. The values of each variable aren't standardized, so strength is just \"some number\" calculated based on two other numbers. You could say that we've basically removed the meaning from the variables. \n",
    "\n",
    "So how do we get it back..."
   ]
  },
  {
   "cell_type": "markdown",
   "id": "dba291f0-5547-43cd-bc2f-2e43f56bc8db",
   "metadata": {},
   "source": [
    "### Correlation \n",
    "\n",
    "**Pearson Correlation** is a scaled form of covariance. It still uses positive and negative values to measure proportional and inverse proportional relationships as well as a 0 value to measure no relationship. \n",
    "\n",
    "![Pearson Correlation](./correlation_fig_1.svg)\n",
    "\n",
    "*Example of Pearson Correlation*\n",
    "\n",
    "However, it normalizes the values to a range of -1 to +1 making comparisons appropriate. \n",
    "\n",
    "While there is no hard and fast rule about the magnitude and it's interpretation of strength, there is a general rule of thumb: \n",
    "- 0 is **absolute no correlation**\n",
    "- values exceeding +/- 0.3 are considered to have a linear correlation\n",
    "- values exceeding +/- 0.6 are considered to have a *strong* linear correlation\n",
    "\n",
    "\n",
    "Let's calculate the correlation of our variables. "
   ]
  },
  {
   "cell_type": "code",
   "execution_count": 56,
   "id": "df113212-6179-4f8f-9417-348ab112b8c0",
   "metadata": {},
   "outputs": [
    {
     "data": {
      "text/plain": [
       "0.806002252441622"
      ]
     },
     "execution_count": 56,
     "metadata": {},
     "output_type": "execute_result"
    }
   ],
   "source": [
    "# (Ignore the syntax for now, we'll talk more about correlation later)\n",
    "from scipy.stats import pearsonr\n",
    "\n",
    "correlation_beds_square_feet, p = pearsonr(rentals.beds, rentals.square_feet)\n",
    "correlation_beds_square_feet"
   ]
  },
  {
   "cell_type": "code",
   "execution_count": 58,
   "id": "0517fe66-3782-4fc3-9cfb-ffdef244add8",
   "metadata": {},
   "outputs": [
    {
     "data": {
      "image/png": "[encoded data removed]",
      "text/plain": [
       "<Figure size 640x480 with 1 Axes>"
      ]
     },
     "metadata": {},
     "output_type": "display_data"
    }
   ],
   "source": [
    "# Let's display out scatter plot again to compare it to that value\n",
    "plt.xlabel('Number of Beds') \n",
    "plt.ylabel('Square Footage')\n",
    "plt.scatter(x=rentals.beds, y=rentals.square_feet)\n",
    "plt.show()\n",
    "plt.close()"
   ]
  },
  {
   "cell_type": "markdown",
   "id": "075b4f50-130c-470a-9096-882676a6a592",
   "metadata": {},
   "source": [
    "What do you think? \n",
    "\n",
    "The correlation calculation suggests that there is a strong positive correlation between beds and square footage? \n",
    "- We certainly see values moving from bottom left to top right, so this is a proportional or positive relationship.\n",
    "- Strong? If you ignore those zero-based outliers, the range of values of square footage appears consistent as we increase the number of bedrooms. "
   ]
  },
  {
   "cell_type": "markdown",
   "id": "2adae39f-501e-4d53-8998-57b61e43676f",
   "metadata": {},
   "source": [
    "---\n",
    "\n",
    "### Limitations of Covariance and Correlation\n",
    "\n",
    "**Covariance** and **correlation** are great tools for evaluating associations between two variables. However, and this is important to remember, they measure the strength of **linear** relationships with **non-zero** slopes. \n",
    "\n",
    "This means that the results can be misleading for other types of relationships. \n",
    "\n",
    "![Examples of Misleading Results of Correlation](./correlation_fig_2.svg)\n",
    "\n",
    "*Example of Misleading Results from Correlation*\n",
    "\n",
    "Let's demonstrate a quick example of this. "
   ]
  },
  {
   "cell_type": "code",
   "execution_count": 59,
   "id": "26e16b9d-3d52-45bf-8f50-70190595ec51",
   "metadata": {},
   "outputs": [
    {
     "data": {
      "text/html": [
       "<div>\n",
       "<style scoped>\n",
       "    .dataframe tbody tr th:only-of-type {\n",
       "        vertical-align: middle;\n",
       "    }\n",
       "\n",
       "    .dataframe tbody tr th {\n",
       "        vertical-align: top;\n",
       "    }\n",
       "\n",
       "    .dataframe thead th {\n",
       "        text-align: right;\n",
       "    }\n",
       "</style>\n",
       "<table border=\"1\" class=\"dataframe\">\n",
       "  <thead>\n",
       "    <tr style=\"text-align: right;\">\n",
       "      <th></th>\n",
       "      <th>hours_sleep</th>\n",
       "      <th>performance</th>\n",
       "    </tr>\n",
       "  </thead>\n",
       "  <tbody>\n",
       "    <tr>\n",
       "      <th>0</th>\n",
       "      <td>7.3</td>\n",
       "      <td>9.3</td>\n",
       "    </tr>\n",
       "    <tr>\n",
       "      <th>1</th>\n",
       "      <td>8.3</td>\n",
       "      <td>9.9</td>\n",
       "    </tr>\n",
       "    <tr>\n",
       "      <th>2</th>\n",
       "      <td>7.1</td>\n",
       "      <td>8.9</td>\n",
       "    </tr>\n",
       "    <tr>\n",
       "      <th>3</th>\n",
       "      <td>8.4</td>\n",
       "      <td>9.9</td>\n",
       "    </tr>\n",
       "    <tr>\n",
       "      <th>4</th>\n",
       "      <td>5.7</td>\n",
       "      <td>5.0</td>\n",
       "    </tr>\n",
       "  </tbody>\n",
       "</table>\n",
       "</div>"
      ],
      "text/plain": [
       "   hours_sleep  performance\n",
       "0          7.3          9.3\n",
       "1          8.3          9.9\n",
       "2          7.1          8.9\n",
       "3          8.4          9.9\n",
       "4          5.7          5.0"
      ]
     },
     "execution_count": 59,
     "metadata": {},
     "output_type": "execute_result"
    }
   ],
   "source": [
    "# import the data and take a quick look at the data. \n",
    "sleep = pd.read_csv('sleep_study.csv')\n",
    "\n",
    "sleep.head()"
   ]
  },
  {
   "cell_type": "code",
   "execution_count": 60,
   "id": "6d9650a0-5e6d-4d4c-a054-78bf98d8d27b",
   "metadata": {},
   "outputs": [
    {
     "name": "stdout",
     "output_type": "stream",
     "text": [
      "<class 'pandas.core.frame.DataFrame'>\n",
      "RangeIndex: 50 entries, 0 to 49\n",
      "Data columns (total 2 columns):\n",
      " #   Column       Non-Null Count  Dtype  \n",
      "---  ------       --------------  -----  \n",
      " 0   hours_sleep  50 non-null     float64\n",
      " 1   performance  50 non-null     float64\n",
      "dtypes: float64(2)\n",
      "memory usage: 928.0 bytes\n"
     ]
    }
   ],
   "source": [
    "# what is the shape of the data, null vals, data types etc. \n",
    "sleep.info()"
   ]
  },
  {
   "cell_type": "code",
   "execution_count": 61,
   "id": "73cfc621-b270-4851-b309-5303aa946c7d",
   "metadata": {},
   "outputs": [
    {
     "data": {
      "text/html": [
       "<div>\n",
       "<style scoped>\n",
       "    .dataframe tbody tr th:only-of-type {\n",
       "        vertical-align: middle;\n",
       "    }\n",
       "\n",
       "    .dataframe tbody tr th {\n",
       "        vertical-align: top;\n",
       "    }\n",
       "\n",
       "    .dataframe thead th {\n",
       "        text-align: right;\n",
       "    }\n",
       "</style>\n",
       "<table border=\"1\" class=\"dataframe\">\n",
       "  <thead>\n",
       "    <tr style=\"text-align: right;\">\n",
       "      <th></th>\n",
       "      <th>hours_sleep</th>\n",
       "      <th>performance</th>\n",
       "    </tr>\n",
       "  </thead>\n",
       "  <tbody>\n",
       "    <tr>\n",
       "      <th>count</th>\n",
       "      <td>50.000000</td>\n",
       "      <td>50.000000</td>\n",
       "    </tr>\n",
       "    <tr>\n",
       "      <th>mean</th>\n",
       "      <td>8.072000</td>\n",
       "      <td>8.848000</td>\n",
       "    </tr>\n",
       "    <tr>\n",
       "      <th>std</th>\n",
       "      <td>1.090972</td>\n",
       "      <td>1.522919</td>\n",
       "    </tr>\n",
       "    <tr>\n",
       "      <th>min</th>\n",
       "      <td>5.400000</td>\n",
       "      <td>3.700000</td>\n",
       "    </tr>\n",
       "    <tr>\n",
       "      <th>25%</th>\n",
       "      <td>7.600000</td>\n",
       "      <td>8.500000</td>\n",
       "    </tr>\n",
       "    <tr>\n",
       "      <th>50%</th>\n",
       "      <td>8.300000</td>\n",
       "      <td>9.400000</td>\n",
       "    </tr>\n",
       "    <tr>\n",
       "      <th>75%</th>\n",
       "      <td>8.775000</td>\n",
       "      <td>9.900000</td>\n",
       "    </tr>\n",
       "    <tr>\n",
       "      <th>max</th>\n",
       "      <td>10.400000</td>\n",
       "      <td>10.000000</td>\n",
       "    </tr>\n",
       "  </tbody>\n",
       "</table>\n",
       "</div>"
      ],
      "text/plain": [
       "       hours_sleep  performance\n",
       "count    50.000000    50.000000\n",
       "mean      8.072000     8.848000\n",
       "std       1.090972     1.522919\n",
       "min       5.400000     3.700000\n",
       "25%       7.600000     8.500000\n",
       "50%       8.300000     9.400000\n",
       "75%       8.775000     9.900000\n",
       "max      10.400000    10.000000"
      ]
     },
     "execution_count": 61,
     "metadata": {},
     "output_type": "execute_result"
    }
   ],
   "source": [
    "# quick summary. \n",
    "sleep.describe()"
   ]
  },
  {
   "cell_type": "code",
   "execution_count": 63,
   "id": "a462cb1c-8b87-4b34-8ef5-4b1971d80df1",
   "metadata": {},
   "outputs": [
    {
     "data": {
      "text/plain": [
       "array([[1.19 , 0.468],\n",
       "       [0.468, 2.319]])"
      ]
     },
     "execution_count": 63,
     "metadata": {},
     "output_type": "execute_result"
    }
   ],
   "source": [
    "# Let's calculate the covariance\n",
    "covariance_sleep = np.cov(sleep.hours_sleep, sleep.performance)\n",
    "covariance_sleep"
   ]
  },
  {
   "cell_type": "code",
   "execution_count": 65,
   "id": "3c9f7d3d-aec1-490e-84f8-c196623f2fae",
   "metadata": {},
   "outputs": [
    {
     "data": {
      "text/plain": [
       "0.28149781890494135"
      ]
     },
     "execution_count": 65,
     "metadata": {},
     "output_type": "execute_result"
    }
   ],
   "source": [
    "# Let's calculate the correlation\n",
    "sleep_corr, p = pearsonr(sleep.hours_sleep, sleep.performance)\n",
    "sleep_corr"
   ]
  },
  {
   "cell_type": "markdown",
   "id": "49639f37-ea18-49a1-8e9b-20ba0b0c7305",
   "metadata": {},
   "source": [
    "This is less than 0.3, so we can expect this to have a very small amount of correlation. "
   ]
  },
  {
   "cell_type": "code",
   "execution_count": 68,
   "id": "8a62bce5-4b32-4917-a3af-ccb5ec40810e",
   "metadata": {},
   "outputs": [
    {
     "data": {
      "image/png": "[encoded data removed]",
      "text/plain": [
       "<Figure size 640x480 with 1 Axes>"
      ]
     },
     "metadata": {},
     "output_type": "display_data"
    }
   ],
   "source": [
    "# Let's prove it by plotting it out...\n",
    "plt.scatter(sleep.hours_sleep, sleep.performance)\n",
    "plt.xlabel('Hours of Sleep')\n",
    "plt.ylabel('Performance')\n",
    "plt.show()\n",
    "plt.close()"
   ]
  },
  {
   "cell_type": "markdown",
   "id": "546d202f-8bbd-44d2-9e68-5023d56f89f1",
   "metadata": {},
   "source": [
    "---\n",
    "\n",
    "Oops. We can see that the data points have a clear relationship, it's just not linear. \n",
    "\n",
    "As hours of sleep approach 8, performance also increases. However, once hours of sleep continues to increase beyond 8, performance decreases, suggesting that too much sleep is bad!!!\n",
    "\n",
    "This is a good example of the limitations of pearsons correlation and covariance. (Technically the result is accurate in that it suggests there is a weak **linear** association. This is why the result is misleading. Many engineers and scientists might assume that this means there is simply poor association altogether. \n",
    "\n",
    "E"
   ]
  }
 ],
 "metadata": {
  "kernelspec": {
   "display_name": "Python 3 (ipykernel)",
   "language": "python",
   "name": "python3"
  },
  "language_info": {
   "codemirror_mode": {
    "name": "ipython",
    "version": 3
   },
   "file_extension": ".py",
   "mimetype": "text/x-python",
   "name": "python",
   "nbconvert_exporter": "python",
   "pygments_lexer": "ipython3",
   "version": "3.10.13"
  }
 },
 "nbformat": 4,
 "nbformat_minor": 5
}
