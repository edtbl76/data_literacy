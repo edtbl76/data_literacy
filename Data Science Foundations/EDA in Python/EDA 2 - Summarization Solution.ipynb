{
 "cells": [
  {
   "cell_type": "markdown",
   "id": "975886ad-be02-41f5-8bb1-ede51000add7",
   "metadata": {},
   "source": [
    "# EDA 2 - Summary\n",
    "\n",
    "Ok, before we can do analysis.. the second major step of EDA is numerical summarization and data visualisation. This is about doing some high-level work (painting w/ broad strokes) to make formal analysis and model building easier. "
   ]
  },
  {
   "cell_type": "code",
   "execution_count": 1,
   "id": "f7fe0b6f-dded-47ae-b2d7-bbf3c23382a0",
   "metadata": {},
   "outputs": [
    {
     "data": {
      "text/html": [
       "<div>\n",
       "<style scoped>\n",
       "    .dataframe tbody tr th:only-of-type {\n",
       "        vertical-align: middle;\n",
       "    }\n",
       "\n",
       "    .dataframe tbody tr th {\n",
       "        vertical-align: top;\n",
       "    }\n",
       "\n",
       "    .dataframe thead th {\n",
       "        text-align: right;\n",
       "    }\n",
       "</style>\n",
       "<table border=\"1\" class=\"dataframe\">\n",
       "  <thead>\n",
       "    <tr style=\"text-align: right;\">\n",
       "      <th></th>\n",
       "      <th>movie</th>\n",
       "      <th>production_budget</th>\n",
       "      <th>domestic_gross</th>\n",
       "      <th>worldwide_gross</th>\n",
       "      <th>mpaa_rating</th>\n",
       "      <th>genre</th>\n",
       "    </tr>\n",
       "  </thead>\n",
       "  <tbody>\n",
       "    <tr>\n",
       "      <th>0</th>\n",
       "      <td>Evan Almighty</td>\n",
       "      <td>175000000.0</td>\n",
       "      <td>100289690.0</td>\n",
       "      <td>1.741313e+08</td>\n",
       "      <td>PG</td>\n",
       "      <td>Comedy</td>\n",
       "    </tr>\n",
       "    <tr>\n",
       "      <th>1</th>\n",
       "      <td>Waterworld</td>\n",
       "      <td>175000000.0</td>\n",
       "      <td>88246220.0</td>\n",
       "      <td>2.642462e+08</td>\n",
       "      <td>PG-13</td>\n",
       "      <td>Action</td>\n",
       "    </tr>\n",
       "    <tr>\n",
       "      <th>2</th>\n",
       "      <td>King Arthur: Legend of the Sword</td>\n",
       "      <td>175000000.0</td>\n",
       "      <td>39175066.0</td>\n",
       "      <td>1.399507e+08</td>\n",
       "      <td>PG-13</td>\n",
       "      <td>Adventure</td>\n",
       "    </tr>\n",
       "    <tr>\n",
       "      <th>3</th>\n",
       "      <td>47 Ronin</td>\n",
       "      <td>175000000.0</td>\n",
       "      <td>38362475.0</td>\n",
       "      <td>1.517168e+08</td>\n",
       "      <td>PG-13</td>\n",
       "      <td>Action</td>\n",
       "    </tr>\n",
       "    <tr>\n",
       "      <th>4</th>\n",
       "      <td>Jurassic World: Fallen Kingdom</td>\n",
       "      <td>170000000.0</td>\n",
       "      <td>416769345.0</td>\n",
       "      <td>1.304866e+09</td>\n",
       "      <td>PG-13</td>\n",
       "      <td>Action</td>\n",
       "    </tr>\n",
       "    <tr>\n",
       "      <th>5</th>\n",
       "      <td>Guardians of the Galaxy</td>\n",
       "      <td>170000000.0</td>\n",
       "      <td>333172112.0</td>\n",
       "      <td>7.710513e+08</td>\n",
       "      <td>PG-13</td>\n",
       "      <td>Action</td>\n",
       "    </tr>\n",
       "    <tr>\n",
       "      <th>6</th>\n",
       "      <td>Iron Man 2</td>\n",
       "      <td>170000000.0</td>\n",
       "      <td>312433331.0</td>\n",
       "      <td>6.211564e+08</td>\n",
       "      <td>PG-13</td>\n",
       "      <td>Action</td>\n",
       "    </tr>\n",
       "    <tr>\n",
       "      <th>7</th>\n",
       "      <td>Captain America: The Winter Soldier</td>\n",
       "      <td>170000000.0</td>\n",
       "      <td>259746958.0</td>\n",
       "      <td>7.144019e+08</td>\n",
       "      <td>PG-13</td>\n",
       "      <td>Action</td>\n",
       "    </tr>\n",
       "    <tr>\n",
       "      <th>8</th>\n",
       "      <td>Dawn of the Planet of the Apes</td>\n",
       "      <td>170000000.0</td>\n",
       "      <td>208545589.0</td>\n",
       "      <td>7.106446e+08</td>\n",
       "      <td>PG-13</td>\n",
       "      <td>Adventure</td>\n",
       "    </tr>\n",
       "    <tr>\n",
       "      <th>9</th>\n",
       "      <td>The Polar Express</td>\n",
       "      <td>170000000.0</td>\n",
       "      <td>186493587.0</td>\n",
       "      <td>3.106342e+08</td>\n",
       "      <td>G</td>\n",
       "      <td>Adventure</td>\n",
       "    </tr>\n",
       "  </tbody>\n",
       "</table>\n",
       "</div>"
      ],
      "text/plain": [
       "                                 movie  production_budget  domestic_gross  \\\n",
       "0                        Evan Almighty        175000000.0     100289690.0   \n",
       "1                           Waterworld        175000000.0      88246220.0   \n",
       "2     King Arthur: Legend of the Sword        175000000.0      39175066.0   \n",
       "3                             47 Ronin        175000000.0      38362475.0   \n",
       "4       Jurassic World: Fallen Kingdom        170000000.0     416769345.0   \n",
       "5              Guardians of the Galaxy        170000000.0     333172112.0   \n",
       "6                           Iron Man 2        170000000.0     312433331.0   \n",
       "7  Captain America: The Winter Soldier        170000000.0     259746958.0   \n",
       "8       Dawn of the Planet of the Apes        170000000.0     208545589.0   \n",
       "9                    The Polar Express        170000000.0     186493587.0   \n",
       "\n",
       "   worldwide_gross mpaa_rating      genre  \n",
       "0     1.741313e+08          PG     Comedy  \n",
       "1     2.642462e+08       PG-13     Action  \n",
       "2     1.399507e+08       PG-13  Adventure  \n",
       "3     1.517168e+08       PG-13     Action  \n",
       "4     1.304866e+09       PG-13     Action  \n",
       "5     7.710513e+08       PG-13     Action  \n",
       "6     6.211564e+08       PG-13     Action  \n",
       "7     7.144019e+08       PG-13     Action  \n",
       "8     7.106446e+08       PG-13  Adventure  \n",
       "9     3.106342e+08           G  Adventure  "
      ]
     },
     "execution_count": 1,
     "metadata": {},
     "output_type": "execute_result"
    }
   ],
   "source": [
    "# First let's do do our setup work. \n",
    "import pandas\n",
    "import numpy\n",
    "from scipy.stats import iqr\n",
    "\n",
    "movies = pandas.read_csv('movie_stats.csv')\n",
    "\n",
    "# As a good rule of thumb, let's do a quick head inspection\n",
    "movies.head(10)"
   ]
  },
  {
   "cell_type": "markdown",
   "id": "1412090d-a2fe-4f07-a297-068445a94b3e",
   "metadata": {},
   "source": [
    "We can use ```describe()``` to get common summary statistics for the columns in the data frame.  However... by default it only includes numeric columns, so we have to specify ```include='all'``` as a parameter to display categorical variables. "
   ]
  },
  {
   "cell_type": "code",
   "execution_count": 2,
   "id": "9b9e158e-137d-4e47-af91-a57248e2b5f0",
   "metadata": {},
   "outputs": [
    {
     "data": {
      "text/html": [
       "<div>\n",
       "<style scoped>\n",
       "    .dataframe tbody tr th:only-of-type {\n",
       "        vertical-align: middle;\n",
       "    }\n",
       "\n",
       "    .dataframe tbody tr th {\n",
       "        vertical-align: top;\n",
       "    }\n",
       "\n",
       "    .dataframe thead th {\n",
       "        text-align: right;\n",
       "    }\n",
       "</style>\n",
       "<table border=\"1\" class=\"dataframe\">\n",
       "  <thead>\n",
       "    <tr style=\"text-align: right;\">\n",
       "      <th></th>\n",
       "      <th>movie</th>\n",
       "      <th>production_budget</th>\n",
       "      <th>domestic_gross</th>\n",
       "      <th>worldwide_gross</th>\n",
       "      <th>mpaa_rating</th>\n",
       "      <th>genre</th>\n",
       "    </tr>\n",
       "  </thead>\n",
       "  <tbody>\n",
       "    <tr>\n",
       "      <th>count</th>\n",
       "      <td>3401</td>\n",
       "      <td>3.401000e+03</td>\n",
       "      <td>3.401000e+03</td>\n",
       "      <td>3.401000e+03</td>\n",
       "      <td>3264</td>\n",
       "      <td>3401</td>\n",
       "    </tr>\n",
       "    <tr>\n",
       "      <th>unique</th>\n",
       "      <td>3400</td>\n",
       "      <td>NaN</td>\n",
       "      <td>NaN</td>\n",
       "      <td>NaN</td>\n",
       "      <td>4</td>\n",
       "      <td>5</td>\n",
       "    </tr>\n",
       "    <tr>\n",
       "      <th>top</th>\n",
       "      <td>Tau ming chong</td>\n",
       "      <td>NaN</td>\n",
       "      <td>NaN</td>\n",
       "      <td>NaN</td>\n",
       "      <td>R</td>\n",
       "      <td>Drama</td>\n",
       "    </tr>\n",
       "    <tr>\n",
       "      <th>freq</th>\n",
       "      <td>2</td>\n",
       "      <td>NaN</td>\n",
       "      <td>NaN</td>\n",
       "      <td>NaN</td>\n",
       "      <td>1514</td>\n",
       "      <td>1236</td>\n",
       "    </tr>\n",
       "    <tr>\n",
       "      <th>mean</th>\n",
       "      <td>NaN</td>\n",
       "      <td>3.328474e+07</td>\n",
       "      <td>4.542179e+07</td>\n",
       "      <td>9.411512e+07</td>\n",
       "      <td>NaN</td>\n",
       "      <td>NaN</td>\n",
       "    </tr>\n",
       "    <tr>\n",
       "      <th>std</th>\n",
       "      <td>NaN</td>\n",
       "      <td>3.489239e+07</td>\n",
       "      <td>5.882566e+07</td>\n",
       "      <td>1.409182e+08</td>\n",
       "      <td>NaN</td>\n",
       "      <td>NaN</td>\n",
       "    </tr>\n",
       "    <tr>\n",
       "      <th>min</th>\n",
       "      <td>NaN</td>\n",
       "      <td>2.500000e+05</td>\n",
       "      <td>0.000000e+00</td>\n",
       "      <td>0.000000e+00</td>\n",
       "      <td>NaN</td>\n",
       "      <td>NaN</td>\n",
       "    </tr>\n",
       "    <tr>\n",
       "      <th>25%</th>\n",
       "      <td>NaN</td>\n",
       "      <td>9.000000e+06</td>\n",
       "      <td>6.118683e+06</td>\n",
       "      <td>1.061881e+07</td>\n",
       "      <td>NaN</td>\n",
       "      <td>NaN</td>\n",
       "    </tr>\n",
       "    <tr>\n",
       "      <th>50%</th>\n",
       "      <td>NaN</td>\n",
       "      <td>2.000000e+07</td>\n",
       "      <td>2.553382e+07</td>\n",
       "      <td>4.015902e+07</td>\n",
       "      <td>NaN</td>\n",
       "      <td>NaN</td>\n",
       "    </tr>\n",
       "    <tr>\n",
       "      <th>75%</th>\n",
       "      <td>NaN</td>\n",
       "      <td>4.500000e+07</td>\n",
       "      <td>6.032379e+07</td>\n",
       "      <td>1.176152e+08</td>\n",
       "      <td>NaN</td>\n",
       "      <td>NaN</td>\n",
       "    </tr>\n",
       "    <tr>\n",
       "      <th>max</th>\n",
       "      <td>NaN</td>\n",
       "      <td>1.750000e+08</td>\n",
       "      <td>4.745447e+08</td>\n",
       "      <td>1.304866e+09</td>\n",
       "      <td>NaN</td>\n",
       "      <td>NaN</td>\n",
       "    </tr>\n",
       "  </tbody>\n",
       "</table>\n",
       "</div>"
      ],
      "text/plain": [
       "                 movie  production_budget  domestic_gross  worldwide_gross  \\\n",
       "count             3401       3.401000e+03    3.401000e+03     3.401000e+03   \n",
       "unique            3400                NaN             NaN              NaN   \n",
       "top     Tau ming chong                NaN             NaN              NaN   \n",
       "freq                 2                NaN             NaN              NaN   \n",
       "mean               NaN       3.328474e+07    4.542179e+07     9.411512e+07   \n",
       "std                NaN       3.489239e+07    5.882566e+07     1.409182e+08   \n",
       "min                NaN       2.500000e+05    0.000000e+00     0.000000e+00   \n",
       "25%                NaN       9.000000e+06    6.118683e+06     1.061881e+07   \n",
       "50%                NaN       2.000000e+07    2.553382e+07     4.015902e+07   \n",
       "75%                NaN       4.500000e+07    6.032379e+07     1.176152e+08   \n",
       "max                NaN       1.750000e+08    4.745447e+08     1.304866e+09   \n",
       "\n",
       "       mpaa_rating  genre  \n",
       "count         3264   3401  \n",
       "unique           4      5  \n",
       "top              R  Drama  \n",
       "freq          1514   1236  \n",
       "mean           NaN    NaN  \n",
       "std            NaN    NaN  \n",
       "min            NaN    NaN  \n",
       "25%            NaN    NaN  \n",
       "50%            NaN    NaN  \n",
       "75%            NaN    NaN  \n",
       "max            NaN    NaN  "
      ]
     },
     "execution_count": 2,
     "metadata": {},
     "output_type": "execute_result"
    }
   ],
   "source": [
    "movies.describe(include='all')"
   ]
  },
  {
   "cell_type": "markdown",
   "id": "904f62e2-0a0f-4212-9ec2-1c8401ff4bcd",
   "metadata": {},
   "source": [
    "Take a second to look at the variables. Which ones are numeric? (discrete vs. continuous). Which ones are categorical? (ordinal, nominal or binary). \n",
    "\n",
    "Look at the summaries on the right. What does this tell us about the variables? "
   ]
  },
  {
   "cell_type": "markdown",
   "id": "c131b857-1f02-4774-9436-af8e8740fe74",
   "metadata": {},
   "source": [
    "### Quantitative Summaries: Central Tendency\n",
    "\n",
    "We're going to look at some of the summary statistics for quantitative data. We'll focus on ```production_budget```.\n",
    "\n",
    "- **mean** --> average (sum of all observations divided by the total number of observatons)\n",
    "- **median** -->the middle value of the variable when sorted. \n",
    "- **mode** --> the most frequent value in the variable\n",
    "- **trimmed mean** --> This is a special mean calculation that excludes x percent of the lowest and highest data points (often outliers that may “pull” the mean or skew the data)\n"
   ]
  },
  {
   "cell_type": "code",
   "execution_count": 3,
   "id": "63c25558-9f41-452f-9264-569f5fdc887d",
   "metadata": {},
   "outputs": [
    {
     "data": {
      "text/plain": [
       "33284743.23640106"
      ]
     },
     "execution_count": 3,
     "metadata": {},
     "output_type": "execute_result"
    }
   ],
   "source": [
    "# we could calculate the mean long hand using sum and count, but that's silly!\n",
    "movies.production_budget.mean()"
   ]
  },
  {
   "cell_type": "code",
   "execution_count": 4,
   "id": "7a055f85-d6d4-4c3f-944d-1a75bca7b064",
   "metadata": {},
   "outputs": [],
   "source": [
    "# median is just as simple"
   ]
  },
  {
   "cell_type": "code",
   "execution_count": 5,
   "id": "84629394-1ded-47f5-aa22-69e5fa5cf5cd",
   "metadata": {},
   "outputs": [
    {
     "data": {
      "text/plain": [
       "20000000.0"
      ]
     },
     "execution_count": 5,
     "metadata": {},
     "output_type": "execute_result"
    }
   ],
   "source": [
    "movies.production_budget.median()"
   ]
  },
  {
   "cell_type": "code",
   "execution_count": 6,
   "id": "8e616c27-28bc-4635-86d5-48ece7536ef0",
   "metadata": {},
   "outputs": [
    {
     "data": {
      "text/plain": [
       "0    20000000.0\n",
       "Name: production_budget, dtype: float64"
      ]
     },
     "execution_count": 6,
     "metadata": {},
     "output_type": "execute_result"
    }
   ],
   "source": [
    "# mode is also simple to calc, but harder to read. \n",
    "## The first number you see is an index, the second is the actual value. If the distribution were multimodal, there would be more rows, such\n",
    "## that the first value would increase sequentially (as indexes do) and the second value would be the other modes\n",
    "movies.production_budget.mode()"
   ]
  },
  {
   "cell_type": "code",
   "execution_count": 7,
   "id": "618eba13-2daa-4e15-8636-3ad54b1a3ac9",
   "metadata": {},
   "outputs": [
    {
     "data": {
      "text/plain": [
       "pandas.core.series.Series"
      ]
     },
     "execution_count": 7,
     "metadata": {},
     "output_type": "execute_result"
    }
   ],
   "source": [
    "# This helps explain the index... the \"Series\" is a single column, so the index is referring to a value in the series. \n",
    "type(movies.production_budget.mode())"
   ]
  },
  {
   "cell_type": "code",
   "execution_count": 8,
   "id": "e3941968-6f5a-4b56-b295-19299d1e4961",
   "metadata": {},
   "outputs": [
    {
     "data": {
      "text/plain": [
       "26895401.874310914"
      ]
     },
     "execution_count": 8,
     "metadata": {},
     "output_type": "execute_result"
    }
   ],
   "source": [
    "# Trimmed mean isn't as simple...\n",
    "## Pandas doesn't have a means of doing this so we're going to use scipy.stats, trim_mean. \n",
    "## we pass the feature as the first argument to the method. The second argument is the percentage of the the dataset we want to clip/trim off each end. \n",
    "##\n",
    "## REMEMBER: If you specify proportiontocut=0.1, then you are clipping off 10% from each end or a total of 20% of the data\n",
    "from scipy.stats import trim_mean\n",
    "trim_mean(movies.production_budget, proportiontocut=0.1)"
   ]
  },
  {
   "cell_type": "code",
   "execution_count": 9,
   "id": "06b9ac36-e645-47ef-93a9-6b126e4d6344",
   "metadata": {},
   "outputs": [
    {
     "data": {
      "text/plain": [
       "23949546.79078883"
      ]
     },
     "execution_count": 9,
     "metadata": {},
     "output_type": "execute_result"
    }
   ],
   "source": [
    "# for giggles let's increase the trim\n",
    "trim_mean(movies.production_budget, proportiontocut=0.2)"
   ]
  },
  {
   "cell_type": "markdown",
   "id": "106c31f4-89ce-4ce0-bb6e-7c3c9184ac07",
   "metadata": {},
   "source": [
    "Note the differences. The first 10% trim cut off about 6 million dollars from the mean. The second 10% trim cut off 3 million. \n",
    "\n",
    "What do you think this tells you? (HINT: It means the data might be left skewed.) As we clip off an equal percentage from either end in terms of data points, the mean decreases, which means that we are removing values that were pulling the mean up and away from the median. \n",
    "\n",
    "We also know that the median is the mode or the most frequent value. \n",
    "\n",
    "This is an important concept, because it helps us conceptualize the \"gravity\" that outliers can exert on statistical analysis. (It's also hard to do this w/o visualization unless you've been doing it for a while!) "
   ]
  },
  {
   "cell_type": "markdown",
   "id": "f6ed7a11-787a-4d62-b9ef-c410623788e4",
   "metadata": {},
   "source": [
    "### Quantitative Summaries: Measures of Spread\n",
    "\n",
    "Spread describes variability, which might be stability or consistency depending on the meaning of the variable. It provides context for measures of central tendency. \n",
    "\n",
    "- **range**: the difference between the maximum and minimum values of a variable\n",
    "- **(IQR) interquartile range**: the difference between the 25th and 75th percentile values.\n",
    "- **variance**: the average of the squared distance from each data point to the mean.\n",
    "- **(SD) standard deviation**: the square root of the variance\n",
    "- **(MAD) mean absolute deviation**: the mean absolute value of the distance between each data point and the mean. "
   ]
  },
  {
   "cell_type": "code",
   "execution_count": 10,
   "id": "6be5354c-f05e-410f-8182-66ac63dd9aaf",
   "metadata": {},
   "outputs": [
    {
     "data": {
      "text/plain": [
       "174750000.0"
      ]
     },
     "execution_count": 10,
     "metadata": {},
     "output_type": "execute_result"
    }
   ],
   "source": [
    "# Range is a fairly basic value. It just gives us a quantification of the breadth of the variable between it's bookends. \n",
    "movies.production_budget.max() - movies.production_budget.min()"
   ]
  },
  {
   "cell_type": "code",
   "execution_count": 11,
   "id": "b336f12c-a920-48c8-89de-1c9a25ee9718",
   "metadata": {},
   "outputs": [
    {
     "data": {
      "text/plain": [
       "36000000.0"
      ]
     },
     "execution_count": 11,
     "metadata": {},
     "output_type": "execute_result"
    }
   ],
   "source": [
    "# There are a few ways to calculate interquartile range. \n",
    "## pandas offers quantile. \n",
    "movies.production_budget.quantile(0.75) - movies.production_budget.quantile(0.25)"
   ]
  },
  {
   "cell_type": "code",
   "execution_count": 12,
   "id": "9b8f9396-07ff-49ac-b65f-9166762d4a02",
   "metadata": {},
   "outputs": [
    {
     "data": {
      "text/plain": [
       "36000000.0"
      ]
     },
     "execution_count": 12,
     "metadata": {},
     "output_type": "execute_result"
    }
   ],
   "source": [
    "# numpy also offers quantile, but the syntax is a little different. \n",
    "## quantile requires a decimal input..\n",
    "numpy.quantile(movies.production_budget, 0.75) - numpy.quantile(movies.production_budget, 0.25)"
   ]
  },
  {
   "cell_type": "code",
   "execution_count": 13,
   "id": "b80560b0-3cf4-4ed1-9e41-b22a8d1f947e",
   "metadata": {},
   "outputs": [
    {
     "data": {
      "text/plain": [
       "36000000.0"
      ]
     },
     "execution_count": 13,
     "metadata": {},
     "output_type": "execute_result"
    }
   ],
   "source": [
    "# numpy also offers the percentile\n",
    "## percentile takes a whole number percentage and converts it to decimal. \n",
    "numpy.percentile(movies.production_budget, 75) - numpy.percentile(movies.production_budget, 25)"
   ]
  },
  {
   "cell_type": "code",
   "execution_count": 14,
   "id": "5591b2de-c1a8-4ff9-986b-a04ab5e21bbc",
   "metadata": {},
   "outputs": [
    {
     "data": {
      "text/plain": [
       "36000000.0"
      ]
     },
     "execution_count": 14,
     "metadata": {},
     "output_type": "execute_result"
    }
   ],
   "source": [
    "# scipy.stats offers iqr, which is probably the easiest to use\n",
    "iqr(movies.production_budget)"
   ]
  },
  {
   "cell_type": "markdown",
   "id": "2ee4d015-dbeb-49ce-b529-c819343652e6",
   "metadata": {},
   "source": [
    "IQR is similar (in concept) to **trimmed_mean**. Mathematically, it keeps 25% of the values to either side of the median. This means that the values below 25% and above 75% (the tails of a normal distribution) are \"chopped off\""
   ]
  },
  {
   "cell_type": "code",
   "execution_count": 15,
   "id": "891af359-7ae8-4c2c-be40-1887b698ee1a",
   "metadata": {},
   "outputs": [
    {
     "data": {
      "text/plain": [
       "1217478921139135.5"
      ]
     },
     "execution_count": 15,
     "metadata": {},
     "output_type": "execute_result"
    }
   ],
   "source": [
    "# variance is provided by pandas\n",
    "movies.production_budget.var()"
   ]
  },
  {
   "cell_type": "code",
   "execution_count": 16,
   "id": "8b2296c5-2474-42f0-8bdd-4c6b4a327b14",
   "metadata": {},
   "outputs": [
    {
     "data": {
      "text/plain": [
       "34892390.59077402"
      ]
     },
     "execution_count": 16,
     "metadata": {},
     "output_type": "execute_result"
    }
   ],
   "source": [
    "# standard deviation\n",
    "movies.production_budget.std()"
   ]
  },
  {
   "cell_type": "markdown",
   "id": "17e0bcf0-f9c3-46e7-a502-f280a061a0a9",
   "metadata": {},
   "source": [
    "If you look at **variance**, you'll notice that it's a bit of a ridiculous value. Since it represents squared distances, it isn't easy to interpret. This is because the number isn't \"relatable\" in terms of the values and data we're analyzing to begin with. I like to think of this as a transitional statistic, because variance is something we'll use to calculate other values. (Although, ```python``` is pretty rad. Most of the libraries allow you to skip over some of these statistics to calculate the final values...). Sometimes that is a problem though. It's generally important to understand the math. \n",
    "\n",
    "**Standard deviation** is the square root of the squared distances, which (kind of) offsets the squaring of the distances. As you can see this creates a number that is more relatable to the other values we're working with. (The **IQR** was 36 million, the **standard deviation** was just short of 35 million)"
   ]
  },
  {
   "cell_type": "code",
   "execution_count": 17,
   "id": "1a0037f8-95cb-4b16-b1c5-42383c4973ad",
   "metadata": {},
   "outputs": [
    {
     "data": {
      "text/plain": [
       "26090426.818845242"
      ]
     },
     "execution_count": 17,
     "metadata": {},
     "output_type": "execute_result"
    }
   ],
   "source": [
    "# MAD (Mean Absolute Deviation)\n",
    "#\n",
    "## NOTE 1: pandas 1.x had a method called mad(). This is deprecated and removed in 2.x. \n",
    "# I cheat by using a lambda\n",
    "mad = lambda x: (x - x.mean()).abs().mean()\n",
    "\n",
    "movies.production_budget.agg(mad)"
   ]
  },
  {
   "cell_type": "code",
   "execution_count": 18,
   "id": "34294da0-fa63-495f-8445-3a25f4e6a0f0",
   "metadata": {},
   "outputs": [
    {
     "data": {
      "text/plain": [
       "26090426.818845242"
      ]
     },
     "execution_count": 18,
     "metadata": {},
     "output_type": "execute_result"
    }
   ],
   "source": [
    "# you can do this w/ numpy as well\n",
    "numpy.mean(numpy.abs(movies.production_budget - numpy.mean(movies.production_budget)))"
   ]
  },
  {
   "cell_type": "markdown",
   "id": "703d438b-4afd-4ab1-9215-55d246f434b9",
   "metadata": {},
   "source": [
    "#### What exactly is MAD????\n",
    "\n",
    "This is a less understood measure of spread, but it's quite powerful, so I want to take the time to explan it. \n",
    "\n",
    "Let's say we have a dataset: ```[1,2,3,4,5]```\n",
    "\n",
    "1. Calculate the Mean.\n",
    "\n",
    "1 + 2 + 3 + 4 + 5 = 15 / 5 = **3**\n",
    "\n",
    "2. Now we find the deviations from the mean. This means we subtract the mean from each data point\n",
    "\n",
    "1 - 3 = **-2**\n",
    "2 - 3 = **-1**\n",
    "3 - 3 = **0**\n",
    "4 - 3 = **1**\n",
    "5 - 3 = **2**\n",
    "\n",
    "3. Take the absolute values.\n",
    "\n",
    "**2, 1, 0, 1, 2**\n",
    "\n",
    "```This is important```\n",
    "\n",
    "4. Calculate the mean of the absolute deviations.\n",
    "\n",
    "2 + 1 + 0 + 1 + 2 = 6 / 5 = **1.2**\n",
    "\n",
    "```If we don't take the absolute values, then the sum of the deviations alone will cancel out and the mean of the deviations will be 0```\n",
    "\n",
    "---\n",
    "\n",
    "- **Robustness**: Because MAD uses absolute values, it reduces the impact of outliers compared to measures like variance and standard deviation, which square the deviations.\n",
    "- **Intuitive Measure**: MAD is intuitive as it directly relates to the average distance from the mean, making it easy to interpret.\n",
    "- **Comparison Across Datasets**: As an average measure of dispersion, MAD allows comparison of variability between different datasets, even when they have different scales or units.\n",
    "\n"
   ]
  },
  {
   "cell_type": "markdown",
   "id": "f0721264-ed71-4ebf-9a83-e78cc1e65adf",
   "metadata": {},
   "source": [
    "### Visualizing Quantitatives Variables\n",
    "\n",
    "we're going to look at boxplots and and histograms. "
   ]
  },
  {
   "cell_type": "code",
   "execution_count": 19,
   "id": "7b27c48c-409d-4777-a97c-10556c8439f9",
   "metadata": {},
   "outputs": [],
   "source": [
    "# Setup the libs we need...\n",
    "import matplotlib.pyplot as plt\n",
    "import seaborn as sns"
   ]
  },
  {
   "cell_type": "code",
   "execution_count": 22,
   "id": "4fd569ec-dae2-438b-bef5-ce437e2fbccd",
   "metadata": {},
   "outputs": [
    {
     "data": {
      "image/png": "[encoded data removed]",
      "text/plain": [
       "<Figure size 640x480 with 1 Axes>"
      ]
     },
     "metadata": {},
     "output_type": "display_data"
    }
   ],
   "source": [
    "# create the visualization (figure)\n",
    "# show the visualization (figure)\n",
    "# close() closes the figure... so we can create another one later. \n",
    "\n",
    "sns.boxplot(x='production_budget', data=movies)\n",
    "plt.show()\n",
    "plt.close()"
   ]
  },
  {
   "cell_type": "code",
   "execution_count": 23,
   "id": "95edc00e-1706-4267-ba5b-5ec9880d5631",
   "metadata": {},
   "outputs": [
    {
     "name": "stderr",
     "output_type": "stream",
     "text": [
      "/home/edmangini/anaconda3/lib/python3.10/site-packages/seaborn/_oldcore.py:1119: FutureWarning: use_inf_as_na option is deprecated and will be removed in a future version. Convert inf values to NaN before operating instead.\n",
      "  with pd.option_context('mode.use_inf_as_na', True):\n"
     ]
    },
    {
     "data": {
      "image/png": "[encoded data removed]",
      "text/plain": [
       "<Figure size 640x480 with 1 Axes>"
      ]
     },
     "metadata": {},
     "output_type": "display_data"
    }
   ],
   "source": [
    "# Now let's do it w/ a histogram\n",
    "sns.histplot(x='production_budget', data=movies)\n",
    "plt.show()\n",
    "plt.close()"
   ]
  },
  {
   "cell_type": "markdown",
   "id": "377b33fc-7bb9-47ea-8b12-c2775d5c162d",
   "metadata": {},
   "source": [
    "There is a lot more that we can do with visualization, but this is a quick way to view the data we are working with. \n",
    "\n",
    "Do you remember when we suggested the data was left skewed? :) Here you can see that is the case. "
   ]
  },
  {
   "cell_type": "markdown",
   "id": "65a67267-e97f-4fdf-a302-ae12a0225551",
   "metadata": {},
   "source": [
    "### Summarizing Categorical Variables: Frequencies and Proportions \n",
    "\n",
    "Frequency is a simple base measure for categorical data. It answers the question *How much of each?*. \n",
    "One of the challenges of frequency is that it is fairly raw in terms of numbers. \n",
    "\n",
    "Humans are better at visualizing part-whole relationships, so creating proportions (pieces of a pie) are more relatable. "
   ]
  },
  {
   "cell_type": "code",
   "execution_count": 25,
   "id": "b34ea026-ad77-4ad5-a124-cb2f9c6b7dff",
   "metadata": {},
   "outputs": [
    {
     "data": {
      "text/plain": [
       "genre\n",
       "Drama        1236\n",
       "Comedy        813\n",
       "Action        573\n",
       "Adventure     481\n",
       "Horror        298\n",
       "Name: count, dtype: int64"
      ]
     },
     "execution_count": 25,
     "metadata": {},
     "output_type": "execute_result"
    }
   ],
   "source": [
    "# count 'em up!\n",
    "movies.genre.value_counts()"
   ]
  },
  {
   "cell_type": "code",
   "execution_count": 26,
   "id": "8a077ccf-1265-4f7d-927c-377e64c68a58",
   "metadata": {},
   "outputs": [
    {
     "data": {
      "text/plain": [
       "genre\n",
       "Drama        0.363423\n",
       "Comedy       0.239047\n",
       "Action       0.168480\n",
       "Adventure    0.141429\n",
       "Horror       0.087621\n",
       "Name: proportion, dtype: float64"
      ]
     },
     "execution_count": 26,
     "metadata": {},
     "output_type": "execute_result"
    }
   ],
   "source": [
    "# bake a pie!\n",
    "movies.genre.value_counts(normalize=True)"
   ]
  },
  {
   "cell_type": "markdown",
   "id": "483c3472-3a6c-43d9-905e-ed7185aee8f8",
   "metadata": {},
   "source": [
    "### Visualizing Categorical Variables. \n",
    "\n",
    "Bar charts and pie charts are the most common representations of categorical data, and the relationship is fairly intuitive. A bar chart is appropriate for counts and frequency, and a pie chart, by definition, represents part whole relationships. "
   ]
  },
  {
   "cell_type": "code",
   "execution_count": 29,
   "id": "9636998e-61b4-4665-954f-d05785287202",
   "metadata": {},
   "outputs": [
    {
     "data": {
      "image/png": "[encoded data removed]",
      "text/plain": [
       "<Figure size 640x480 with 1 Axes>"
      ]
     },
     "metadata": {},
     "output_type": "display_data"
    }
   ],
   "source": [
    "# Seaborn's countplot is a barchart. \n",
    "sns.countplot(x='genre', data=movies)\n",
    "plt.show()\n",
    "plt.close()"
   ]
  },
  {
   "cell_type": "code",
   "execution_count": 31,
   "id": "ac3eca36-745e-4734-82ce-5788f2d2a7e9",
   "metadata": {},
   "outputs": [
    {
     "data": {
      "image/png": "[encoded data removed]",
      "text/plain": [
       "<Figure size 640x480 with 1 Axes>"
      ]
     },
     "metadata": {},
     "output_type": "display_data"
    }
   ],
   "source": [
    "# pie charts are a little different. \n",
    "movies.genre.value_counts().plot.pie()\n",
    "plt.show()\n",
    "plt.close()"
   ]
  }
 ],
 "metadata": {
  "kernelspec": {
   "display_name": "Python 3 (ipykernel)",
   "language": "python",
   "name": "python3"
  },
  "language_info": {
   "codemirror_mode": {
    "name": "ipython",
    "version": 3
   },
   "file_extension": ".py",
   "mimetype": "text/x-python",
   "name": "python",
   "nbconvert_exporter": "python",
   "pygments_lexer": "ipython3",
   "version": "3.10.13"
  }
 },
 "nbformat": 4,
 "nbformat_minor": 5
}
