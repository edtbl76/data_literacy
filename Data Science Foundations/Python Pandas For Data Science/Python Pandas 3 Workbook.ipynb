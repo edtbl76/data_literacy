{
 "cells": [
  {
   "cell_type": "markdown",
   "id": "c82b2f73-005d-46db-91b3-5627e7f51782",
   "metadata": {},
   "source": [
    "# Python Pandas III: Aggregates\n",
    "\n",
    "Still starring our favorite globetrotter. \n",
    "\n",
    "We'll start by setting up a merge between the same two previous datasets we were using in the previous lesson"
   ]
  },
  {
   "cell_type": "code",
   "execution_count": null,
   "id": "04ce5bc5-3a56-43c9-8841-3cff6de18fc1",
   "metadata": {},
   "outputs": [],
   "source": [
    "# import pandas\n",
    "import pandas\n",
    "\n",
    "# configure pandas\n",
    "pandas.options.display.max_rows = None\n",
    "pandas.options.display.max_columns = None\n",
    "\n",
    "# load our first data set and give it a quick head check\n",
    "celtics_roster = pandas.read_csv('boston_celtics_2023_2024.csv')\n",
    "celtics_roster.head(4)"
   ]
  },
  {
   "cell_type": "code",
   "execution_count": null,
   "id": "e01840a3-227c-4a6b-b5df-78d3f2569bb5",
   "metadata": {},
   "outputs": [],
   "source": [
    "# Go ahead and load our next dataset and give it a quick head check\n",
    "celtics_totals = pandas.read_csv('boston_celtics_2023_2024_totals.csv')\n",
    "celtics_totals.head(4)"
   ]
  },
  {
   "cell_type": "code",
   "execution_count": null,
   "id": "3e527e0a-5030-4169-95f2-64761d2c2877",
   "metadata": {},
   "outputs": [],
   "source": [
    "# Now let's do the merge and do our last head check\n",
    "celtics = pandas.merge(celtics_roster, celtics_totals, on='player', how='outer')\n",
    "celtics.head(5)"
   ]
  },
  {
   "cell_type": "markdown",
   "id": "b9e3cf5c-970f-4e70-bc3c-0c3aa1aa281a",
   "metadata": {},
   "source": [
    "### Let's look at Groups and Pivots. \n",
    "\n",
    "We're going to group our players by position group and on-off percentile. \n",
    "\n",
    "Before we do this, we're going to create a new column (Remember how to do that??) We want to aggregate our forwards and guards. "
   ]
  },
  {
   "cell_type": "code",
   "execution_count": null,
   "id": "141e6226-da19-44be-be88-1bcc0df8a67d",
   "metadata": {},
   "outputs": [],
   "source": [
    "celtics['position_group'] = \"Unknown\"\n",
    "celtics.loc[(celtics['position'] == 'C'), 'position_group'] = 'center'\n",
    "celtics.loc[(celtics['position'] == 'PF') | (celtics['position'] == 'SF'), 'position_group'] = 'forward'\n",
    "celtics.loc[(celtics['position'] == 'PG') | (celtics['position'] == 'SG'), 'position_group'] = 'guard'\n",
    "celtics[['player','position_group']]"
   ]
  },
  {
   "cell_type": "markdown",
   "id": "e0e94d0c-52d5-4f96-ad38-378772190980",
   "metadata": {},
   "source": [
    "Now let's put together the group"
   ]
  },
  {
   "cell_type": "code",
   "execution_count": null,
   "id": "c2583b0f-d1fe-4462-86bf-e9eaa3bcc15d",
   "metadata": {},
   "outputs": [],
   "source": [
    "celtics.groupby(['position_group','on-off']).player.count().reset_index()"
   ]
  },
  {
   "cell_type": "markdown",
   "id": "f33227c3-0929-4422-a306-077be530c5f5",
   "metadata": {},
   "source": [
    "Neat! This is one way we can look at who the starters on the team are, or what playing time looks like. \n",
    "\n",
    "Let's create a pivot_table from the group and look at it in a different way. (This creates something easier to analyze and look at to human eyes, because it de-duplicates the index)"
   ]
  },
  {
   "cell_type": "code",
   "execution_count": null,
   "id": "9d119524-4ec4-430d-97cc-9de23de37234",
   "metadata": {},
   "outputs": [],
   "source": [
    "celtics.groupby(['position_group','on-off']).player.count().reset_index().pivot(columns='position_group',index='on-off', values='player')"
   ]
  },
  {
   "cell_type": "markdown",
   "id": "5d181a1a-91a0-4a09-99b0-04c00baed49b",
   "metadata": {},
   "source": [
    "### Column Stats\n",
    "\n",
    "Points are everything, right?? So let's get some interesting stats. "
   ]
  },
  {
   "cell_type": "code",
   "execution_count": null,
   "id": "4cb59b97-71eb-494b-8759-75c2e77808c7",
   "metadata": {},
   "outputs": [],
   "source": [
    "print(f'Max Points: {celtics.PTS.max()}')\n",
    "print(f'Min Points: {celtics.PTS.min()}')\n",
    "print(f'Mean Points: {celtics.PTS.mean()}')\n",
    "print(f'Median Points: {celtics.PTS.median()}')\n",
    "print(f'Count Points(Number of Points Scorers): {celtics.PTS.count()}')\n",
    "print(f'Standard Deviation of Points: {celtics.PTS.std()}')"
   ]
  },
  {
   "cell_type": "markdown",
   "id": "916da1f8-3fd1-4668-8d5a-51ecdcc241fc",
   "metadata": {},
   "source": [
    "\n",
    "\n",
    "Here let's look at getting unique values (or a set) and counts. "
   ]
  },
  {
   "cell_type": "code",
   "execution_count": null,
   "id": "d558ba18-dbe8-46d9-b44a-3c407a5c7afa",
   "metadata": {},
   "outputs": [],
   "source": [
    "# This returns all positions (duplicates!) \n",
    "celtics.position"
   ]
  },
  {
   "cell_type": "markdown",
   "id": "cf64b229-c5ff-44c7-b95a-18c4972a8edb",
   "metadata": {},
   "source": [
    "# this returns a python array of the unique values. It's more or less a set. \n",
    "celtics.position.unique()"
   ]
  },
  {
   "cell_type": "code",
   "execution_count": null,
   "id": "7cde30c1-9ce1-4137-babf-a84963ca52f2",
   "metadata": {},
   "outputs": [],
   "source": [
    "# this gets the count of unique values\n",
    "celtics.position.nunique()"
   ]
  },
  {
   "cell_type": "markdown",
   "id": "f3aaadc5-51a5-4d07-991c-b18fd34afccb",
   "metadata": {},
   "source": [
    "### Aggregates and Groups\n",
    "\n",
    "Remember groups??? We can create aggregates per group. "
   ]
  },
  {
   "cell_type": "code",
   "execution_count": null,
   "id": "747986e8-9c15-4d7b-bb5e-3cbba147eca6",
   "metadata": {},
   "outputs": [],
   "source": [
    "# Top point scorers at each position\n",
    "celtics.groupby('position').PTS.max().reset_index()"
   ]
  },
  {
   "cell_type": "markdown",
   "id": "9d81c804-a072-4443-b34b-0b04c2c064d2",
   "metadata": {},
   "source": [
    "---\n",
    "\n",
    "This is useful, but how do I get the player associated w/ that max score? \n",
    "\n",
    "First let's look at what we get just by viewing the groupby('position')"
   ]
  },
  {
   "cell_type": "code",
   "execution_count": null,
   "id": "be040970-1e62-455b-b3f7-7707a2b94347",
   "metadata": {},
   "outputs": [],
   "source": [
    "# basic groupby command for position\n",
    "celtics.groupby('position')"
   ]
  },
  {
   "cell_type": "markdown",
   "id": "cc404a42-d336-4e88-a519-9855f7b93592",
   "metadata": {},
   "source": [
    "\n",
    "\n",
    "That wasn't too useful, right? It just told us that we have a DataFrameGroupBy object. \n",
    "\n",
    "So, what happens if we try to perform a selection? (Any Guesses??) youre_fired = celtics.groupby('position')"
   ]
  },
  {
   "cell_type": "code",
   "execution_count": null,
   "id": "b3e78e7f-e72e-4a89-8740-38a05dcac607",
   "metadata": {},
   "outputs": [],
   "source": [
    "# Let's select PTS...\n",
    "celtics.groupby('position')['PTS']"
   ]
  },
  {
   "cell_type": "markdown",
   "id": "83d277d5-156a-4204-9742-a672297ede6d",
   "metadata": {},
   "source": [
    "Remember Python Pandas 1?\n",
    "\n",
    "That's right, when you perform a single selection on a DataFrame, you get a Series object. So, if you perform a single selection on a DataFrameGroupBy... you get a SeriesGroupBy. \n",
    "\n",
    "So let's use idxmax() to get the index of the max value and then try to use that index to get the information we want. "
   ]
  },
  {
   "cell_type": "code",
   "execution_count": null,
   "id": "3d46a6e6-f2e3-42d4-a8e4-a23af2585289",
   "metadata": {},
   "outputs": [],
   "source": [
    "# First we'll get the index and print it out to check that we've actually got something other than an object.\n",
    "index = celtics.groupby('position')['PTS'].idxmax()\n",
    "index"
   ]
  },
  {
   "cell_type": "code",
   "execution_count": null,
   "id": "75e62dc5-485c-40e3-996b-698208bee903",
   "metadata": {},
   "outputs": [],
   "source": [
    "# Rad! So we've got the index of the max scorer for each position. Now let's use it. \n",
    "celtics.loc[index]"
   ]
  },
  {
   "cell_type": "markdown",
   "id": "f58d07d3-131d-41d5-b0fd-09b35e9eb8b6",
   "metadata": {},
   "source": [
    "\n",
    "\n",
    "Ok. That's helpful, but we don't need all of that information right? We just need the player's name and the points. "
   ]
  },
  {
   "cell_type": "code",
   "execution_count": null,
   "id": "081b24d4-3703-48cc-8e0f-4d67282c54d1",
   "metadata": {},
   "outputs": [],
   "source": [
    "celtics.loc[index][['player','PTS']]"
   ]
  },
  {
   "cell_type": "markdown",
   "id": "aeeb9b72-e5f1-4aed-bbd0-3ba253ac30c6",
   "metadata": {},
   "source": [
    "Now that we've put the pieces together, let's try to put it together using a python lambda and use groupby in order to fix the row axis so that we \n",
    "don't have the indexes anymore, but rather the positions. "
   ]
  },
  {
   "cell_type": "code",
   "execution_count": null,
   "id": "5e801385-7f16-4593-848f-d2ab8c2b6aba",
   "metadata": {},
   "outputs": [],
   "source": [
    "get_max_score = lambda group: group.loc[group.PTS.idxmax()]\n",
    "\n",
    "celtics.groupby('position').apply(get_max_score)[['player', 'PTS']]"
   ]
  },
  {
   "cell_type": "markdown",
   "id": "bbb51847-251c-4c9d-958c-bae42da6f44b",
   "metadata": {},
   "source": [
    "Let's do this again w/ Total Rebounds. Unfortunately \"TRB\" is a vague abbreviation that many users might not recognize, so we'll want to rename the column. Let's do that. "
   ]
  },
  {
   "cell_type": "code",
   "execution_count": null,
   "id": "8b7bae55-3b69-42b9-81e0-4e892443583a",
   "metadata": {},
   "outputs": [],
   "source": [
    "get_max_trb = lambda group: group.loc[group.TRB.idxmax()]\n",
    "\n",
    "celtics_trb_by_pos = celtics.groupby('position').apply(get_max_trb)[['player','TRB']]\n",
    "celtics_trb_by_pos"
   ]
  },
  {
   "cell_type": "code",
   "execution_count": null,
   "id": "c6a79c17-227d-435c-90e7-dff4eee7317f",
   "metadata": {
    "scrolled": true
   },
   "outputs": [],
   "source": [
    "# Now let's rename the columns. \n",
    "celtics_trb_by_pos = celtics_trb_by_pos.rename(columns={\"TRB\": \"Rebounds\"})\n",
    "celtics_trb_by_pos"
   ]
  },
  {
   "cell_type": "markdown",
   "id": "96e70024-2e43-4b0a-afe1-d4b2be682662",
   "metadata": {},
   "source": [
    "---\n",
    "\n",
    "Getting the high scorers is helpful, but what if we want to determine the percentiles so we can select the players above/below those percentiles? \n",
    "\n",
    "Before we can do this... we're going to need to solve for some of the NaNs"
   ]
  },
  {
   "cell_type": "code",
   "execution_count": null,
   "id": "2d9352b1-d050-433e-acc2-c502c1410806",
   "metadata": {},
   "outputs": [],
   "source": [
    "celtics[['PTS', 'player', 'position']]"
   ]
  },
  {
   "cell_type": "markdown",
   "id": "1d8721c3-6e3f-4cfd-a6d3-a31fb4d7374f",
   "metadata": {},
   "source": [
    "Remember that silly (TW) suffix in the player name? This caused some issues when we merged the two data sets. It would have gone much smoother if we had fixed the names to match up (or created an id of some kind.) \n",
    "\n",
    "We're going to solve this w/ a simple hack. We're going to fill in the NaN values in PTS, because they'll prevent us from calculating percentiles. \n",
    "\n",
    "```\n",
    "Rule of Thumb: Non Numeric Values Break Numeric Calculations.\n",
    "```\n",
    "1. The easiest way to spot non-numerics is running DataFrame.info(), and look for fields that we expect to see a numeric data type that shows object. This means that there is likely a string somewhere.\n",
    "2. The second easiest way is to hunt down \"NaN\"s. NaN shows up in numeric fields. "
   ]
  },
  {
   "cell_type": "code",
   "execution_count": null,
   "id": "35ca2075-4653-4a10-b4ef-4f9a54d30b5e",
   "metadata": {},
   "outputs": [],
   "source": [
    "# Setting the values (I'm just taking the values from the player w/o the TW and copying it to their duplicate entry.  \n",
    "celtics.at[15,'PTS'] = celtics.iloc[19]['PTS']\n",
    "celtics.at[16, 'PTS'] = celtics.iloc[20]['PTS']\n",
    "celtics.loc[[15, 16, 19, 20]][['player','PTS']]"
   ]
  },
  {
   "cell_type": "markdown",
   "id": "e698a842-b338-4d45-ba8b-61546a67adde",
   "metadata": {},
   "source": [
    "The output should show you the correct outcomes!\n",
    "\n",
    "NOTE: There is a method called set_value() that is SO Much faster than .at(), but it is going to be deprecated by pandas. use at() or iat(). \n",
    "\n",
    "Now that we've done a little hacky-wacky wrangling, let me show you an easy way. "
   ]
  },
  {
   "cell_type": "code",
   "execution_count": null,
   "id": "68562438-3776-47b2-a60b-86976e0bbd57",
   "metadata": {},
   "outputs": [],
   "source": [
    "# import numpy. We need that to set NaN and get to percentiles later\n",
    "import numpy as np\n",
    "\n",
    "\n",
    "# Setting the values Back\n",
    "celtics.at[15,'PTS'] = np.NaN\n",
    "celtics.at[16, 'PTS'] = np.NaN\n",
    "celtics.loc[[15, 16, 19, 20]][['player','PTS']]"
   ]
  },
  {
   "cell_type": "code",
   "execution_count": null,
   "id": "4b757020-0f33-4027-946b-bbe5c2b95dfa",
   "metadata": {},
   "outputs": [],
   "source": [
    "# Let's calculate the top scorers... and show the bad values. \n",
    "top_scorers = celtics.groupby('position').PTS.apply(lambda x: np.percentile(x, 75)).reset_index()\n",
    "top_scorers"
   ]
  },
  {
   "cell_type": "code",
   "execution_count": null,
   "id": "5716cd88-e0f2-4203-b194-487ee5fa2543",
   "metadata": {},
   "outputs": [],
   "source": [
    "# Lame! So let's fix it. [replace numpy.percentile w/ numpy.nanpercentile]\n",
    "top_scorers = celtics.groupby('position').PTS.apply(lambda x: np.nanpercentile(x, 75)).reset_index()\n",
    "top_scorers"
   ]
  },
  {
   "cell_type": "code",
   "execution_count": null,
   "id": "dbb9e7ef-582e-4fc7-94b0-ce474fc42884",
   "metadata": {},
   "outputs": [],
   "source": [
    "# now let's calculate the low scorers\n",
    "low_scorers = celtics.groupby('position').PTS.apply(lambda x: np.percentile(x, 25)).reset_index()\n",
    "low_scorers"
   ]
  },
  {
   "cell_type": "code",
   "execution_count": null,
   "id": "8f77bda7-b7f4-411b-ae55-6f3069857088",
   "metadata": {},
   "outputs": [],
   "source": [
    "# what about the middle scorers? The 50th percentile..."
   ]
  },
  {
   "cell_type": "code",
   "execution_count": null,
   "id": "b0f728b0-e415-444e-b748-af6aa32d494f",
   "metadata": {},
   "outputs": [],
   "source": [
    "mid = celtics.groupby('position').PTS.median().reset_index()\n",
    "mid"
   ]
  },
  {
   "cell_type": "code",
   "execution_count": null,
   "id": "69464d2c-cace-4d2c-94c2-1cd5438972fe",
   "metadata": {},
   "outputs": [],
   "source": [
    "# Let's prove it by \n",
    "mid_quantile = celtics.groupby('position').PTS.apply(lambda x: np.nanpercentile(x, 50)).reset_index()\n",
    "mid_quantile"
   ]
  },
  {
   "cell_type": "code",
   "execution_count": null,
   "id": "37761313-db85-4a0a-a711-7d636e34b15a",
   "metadata": {},
   "outputs": [],
   "source": [
    "# Here is another short cut to get all of the information we just calculated separately. \n",
    "# .. I added a second field (TRB) to demonstrate how easy it is to get there...\n",
    "celtics.groupby(by='position').describe()[['PTS', 'TRB']]"
   ]
  },
  {
   "cell_type": "markdown",
   "id": "1e7ecd2a-2948-426c-9e6b-f1af590a2bf1",
   "metadata": {},
   "source": [
    "### DataFrameGroupBy.quantile() vs. numpy.percentile() !!!\n",
    "\n",
    "It's generally recommended to use numpy for performance reasons, however quantile can be easier to use\n",
    "\n",
    "#### quantile's interpolation method\n",
    "This is how quantile calculates the quantile... (in other word's it's not very accurate...) \n",
    "- linear: i + (j - i) * (x-i)/(j-i), where (x-i)/(j-i) is the fractional part of the index surrounded by i > j.  **<-- Default**\n",
    "- lower: i.\n",
    "- higher: j.\n",
    "- nearest: i or j whichever is nearest.\n",
    "- midpoint: (i + j) / 2.\n",
    "\n",
    "#### numpy percentile. \n",
    "\n",
    "https://numpy.org/doc/stable/reference/generated/numpy.percentile.html\n",
    "\n",
    "Similar, but more involved: \n",
    "\n",
    "This parameter specifies the method to use for estimating the percentile. There are many different methods, some unique to NumPy. See the notes for explanation. The options sorted by their R type as summarized in the H&F paper [1] are:\n",
    "\n",
    "- ‘inverted_cdf’\n",
    "- ‘averaged_inverted_cdf’\n",
    "- ‘closest_observation’\n",
    "- ‘interpolated_inverted_cdf’\n",
    "- ‘hazen’\n",
    "- ‘weibull’\n",
    "- ‘linear’ **<--default**\n",
    "- ‘median_unbiased’\n",
    "- ‘normal_unbiased’\n",
    "\n"
   ]
  },
  {
   "cell_type": "code",
   "execution_count": null,
   "id": "4a6be8a1-149f-4871-83dd-3ef7b099205e",
   "metadata": {},
   "outputs": [],
   "source": [
    "# Here is an example of using Quantile()..Same results. \n",
    "celtics.groupby('position').PTS.quantile(q=.25) "
   ]
  },
  {
   "cell_type": "markdown",
   "id": "fff79d74-940c-4f8e-8e9f-31b61864a696",
   "metadata": {},
   "source": [
    "### Other helpful aggregations w/ Groups. \n",
    "\n",
    "A comprehensive list is here https://pandas.pydata.org/docs/reference/groupby.html"
   ]
  },
  {
   "cell_type": "code",
   "execution_count": null,
   "id": "345e7de0-c77a-4119-955a-315a8996ff21",
   "metadata": {},
   "outputs": [],
   "source": [
    "# this groups the first few players at each position based on their index. (not terribly useful unless you filter it..) \n",
    "celtics.groupby('position').head(2)"
   ]
  },
  {
   "cell_type": "code",
   "execution_count": null,
   "id": "0063e2e8-d9e2-4ccf-bb7b-4ecb077381b0",
   "metadata": {},
   "outputs": [],
   "source": [
    "# first entry\n",
    "celtics.groupby('position').first()"
   ]
  },
  {
   "cell_type": "code",
   "execution_count": null,
   "id": "ef8d6cea-b067-41e1-a8b7-8a458f8ecadf",
   "metadata": {},
   "outputs": [],
   "source": [
    "# last entry\n",
    "celtics.groupby('position').last()"
   ]
  },
  {
   "cell_type": "code",
   "execution_count": null,
   "id": "99792edf-6392-40a5-9be4-835e8fec9a79",
   "metadata": {},
   "outputs": [],
   "source": []
  }
 ],
 "metadata": {
  "kernelspec": {
   "display_name": "Python 3 (ipykernel)",
   "language": "python",
   "name": "python3"
  },
  "language_info": {
   "codemirror_mode": {
    "name": "ipython",
    "version": 3
   },
   "file_extension": ".py",
   "mimetype": "text/x-python",
   "name": "python",
   "nbconvert_exporter": "python",
   "pygments_lexer": "ipython3",
   "version": "3.10.13"
  }
 },
 "nbformat": 4,
 "nbformat_minor": 5
}
