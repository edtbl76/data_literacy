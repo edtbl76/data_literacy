{
 "cells": [
  {
   "cell_type": "markdown",
   "id": "12d52f66-7ecd-474f-95cb-157eb782c3ea",
   "metadata": {},
   "source": [
    "# What can we do with Pandas?\n",
    "\n",
    "In this example, we'll be working w/ data from the 2023-24 Boston Celtics"
   ]
  },
  {
   "cell_type": "code",
   "execution_count": null,
   "id": "96de18c2-9d7d-458c-a667-63efa5dafe35",
   "metadata": {},
   "outputs": [],
   "source": [
    "# Before we analyze anything, we need to import pandas\n",
    "import pandas as pd"
   ]
  },
  {
   "cell_type": "markdown",
   "id": "34f001bc-c9aa-47de-97b1-89009b2fdc72",
   "metadata": {},
   "source": [
    "### Loading data from a csv file\n",
    "\n",
    "We can load data into Pandas from a csv (comma-separated variable) file. This data represents the Celtics roster."
   ]
  },
  {
   "cell_type": "code",
   "execution_count": null,
   "id": "f017e8c5-7356-48bb-a299-d1b78f7f3b19",
   "metadata": {},
   "outputs": [],
   "source": [
    "celtics = pd.read_csv('boston_celtics_2023_2024.csv')"
   ]
  },
  {
   "cell_type": "markdown",
   "id": "384b2853-1481-465c-a858-92f3fa26e269",
   "metadata": {},
   "source": [
    "### Selecting Data (Previewing)\n",
    "\n",
    "Let's examine the first 10 rows of our data."
   ]
  },
  {
   "cell_type": "code",
   "execution_count": null,
   "id": "c33a7688-2a4b-40e3-a9a2-a93e1c31a093",
   "metadata": {},
   "outputs": [],
   "source": [
    "celtics.head(10)"
   ]
  },
  {
   "cell_type": "markdown",
   "id": "6266d7ee-0ab1-4125-9d43-342ff815cc74",
   "metadata": {},
   "source": [
    "### Inspecting the structure of the data frame.\n",
    "\n",
    "Let's see what the data looks like."
   ]
  },
  {
   "cell_type": "code",
   "execution_count": null,
   "id": "6f47ec9f-b68e-413b-91a4-4e6415bd1b5b",
   "metadata": {},
   "outputs": [],
   "source": [
    "celtics.info()"
   ]
  },
  {
   "cell_type": "markdown",
   "id": "21bae048-ea9f-4a5b-bdda-88de259faf9e",
   "metadata": {},
   "source": [
    "### Selecting Data by column\n",
    "\n",
    "What colleges did the team go to? "
   ]
  },
  {
   "cell_type": "code",
   "execution_count": null,
   "id": "3660ef2b-3108-413c-bff9-a72cf3433eec",
   "metadata": {},
   "outputs": [],
   "source": [
    "celtics.college"
   ]
  },
  {
   "cell_type": "markdown",
   "id": "85c69ff2-825a-48a4-999e-f296e9936864",
   "metadata": {},
   "source": [
    "\n",
    "Let's inspect the data types"
   ]
  },
  {
   "cell_type": "code",
   "execution_count": null,
   "id": "67ed3f3d-1d5a-4ff7-ad27-1dbd7bbbd025",
   "metadata": {},
   "outputs": [],
   "source": [
    "print(type(celtics))\n",
    "print(type(celtics.college))"
   ]
  },
  {
   "cell_type": "markdown",
   "id": "08c5ae54-d2a4-47f9-8b7e-635095a6cc88",
   "metadata": {},
   "source": [
    "### Selecting Multiple Columns\n",
    "\n",
    "Well, that isn't useful. Let's add the player names too. "
   ]
  },
  {
   "cell_type": "code",
   "execution_count": null,
   "id": "77b48312-d303-48ec-827b-4f3afd3f789e",
   "metadata": {},
   "outputs": [],
   "source": [
    "celtics[['player','college']]"
   ]
  },
  {
   "cell_type": "markdown",
   "id": "9fbfa828-5727-4663-8b6d-347a5de1f1fd",
   "metadata": {},
   "source": [
    "Let's check the data type again. (HINT: It's different when selecting multiple columns!) "
   ]
  },
  {
   "cell_type": "code",
   "execution_count": null,
   "id": "1f0ab3f6-02dd-4c41-a347-d772a3be6f75",
   "metadata": {},
   "outputs": [],
   "source": [
    "type(celtics[['player','college']])"
   ]
  },
  {
   "cell_type": "markdown",
   "id": "592621b2-55cd-4fec-8459-a65b52cda66c",
   "metadata": {},
   "source": [
    "### Selecting Rows\n",
    "\n",
    "iloc is a way to select rows based on integer location. Let's select Jaylen Brown."
   ]
  },
  {
   "cell_type": "code",
   "execution_count": null,
   "id": "710e27e4-98fd-44b8-b1bf-066ba2736308",
   "metadata": {},
   "outputs": [],
   "source": [
    "celtics.iloc[4]"
   ]
  },
  {
   "cell_type": "markdown",
   "id": "8435e223-22f5-4e87-b965-02fbcf34e7c6",
   "metadata": {},
   "source": [
    "We can also select them using python's **slice** notation. The second number is *non-inclusive*"
   ]
  },
  {
   "cell_type": "code",
   "execution_count": null,
   "id": "5042fb36-3b1d-4bc3-910a-11fe9bbc062a",
   "metadata": {},
   "outputs": [],
   "source": [
    "celtics.iloc[2:7]"
   ]
  },
  {
   "cell_type": "markdown",
   "id": "5a02bc11-7289-4dd6-a07b-3fa1e7174cbe",
   "metadata": {},
   "source": [
    "### Selecting Rows by Logic\n",
    "\n",
    "Who's our fives? (Centers)"
   ]
  },
  {
   "cell_type": "code",
   "execution_count": null,
   "id": "f919919f-9514-4be4-ad44-481cd5935b43",
   "metadata": {},
   "outputs": [],
   "source": [
    "celtics[celtics.position == 'C']"
   ]
  },
  {
   "cell_type": "markdown",
   "id": "c31c7f81-c89e-4519-b5cf-4257d4b3ad40",
   "metadata": {},
   "source": [
    "Who has a birthday coming up? "
   ]
  },
  {
   "cell_type": "code",
   "execution_count": null,
   "id": "49fef883-c08e-4e44-ad23-bbdc927d168c",
   "metadata": {},
   "outputs": [],
   "source": [
    "celtics[celtics.birth_date.str.contains('June')]"
   ]
  },
  {
   "cell_type": "markdown",
   "id": "8380308d-3944-4ed0-8dff-39710e43cc04",
   "metadata": {},
   "source": [
    "Who plays guard?"
   ]
  },
  {
   "cell_type": "code",
   "execution_count": null,
   "id": "615b0c82-20d4-4c38-a56f-457d4333f782",
   "metadata": {},
   "outputs": [],
   "source": [
    "celtics[(celtics.position == 'PG') | (celtics.position =='SG')]"
   ]
  },
  {
   "cell_type": "markdown",
   "id": "445b0326-41fc-4dfa-82b6-5689a024209e",
   "metadata": {},
   "source": [
    "Which players weren't born in the US, but attended college? "
   ]
  },
  {
   "cell_type": "code",
   "execution_count": null,
   "id": "f71a65db-5fb0-45f6-ac73-8cfb211fcd4c",
   "metadata": {},
   "outputs": [],
   "source": [
    "celtics[(celtics.country_code != 'us') & (celtics.college)]"
   ]
  },
  {
   "cell_type": "markdown",
   "id": "10b99d3e-9fe8-4379-bc97-f4718c4b2a31",
   "metadata": {},
   "source": [
    "[HINT: The query above is looking for a defined cell, let's see what happens we find an undefined cell)"
   ]
  },
  {
   "cell_type": "code",
   "execution_count": null,
   "id": "84afd706-43a2-40c3-8e00-c0041b308807",
   "metadata": {},
   "outputs": [],
   "source": [
    "# This is a crappy way to hunt down NaNs. \n",
    "celtics[celtics.isnull().any(axis=1)]"
   ]
  },
  {
   "cell_type": "markdown",
   "id": "3b52a7a0-082e-499c-9568-b92e11e26e6a",
   "metadata": {},
   "source": [
    "Who went to college in California? "
   ]
  },
  {
   "cell_type": "code",
   "execution_count": null,
   "id": "ffcf2880-e965-48fd-b0f2-6214ccd732c9",
   "metadata": {},
   "outputs": [],
   "source": [
    "celtics[celtics.college.isin(['California','UCLA','USC'])]"
   ]
  },
  {
   "cell_type": "markdown",
   "id": "4cef3f5a-0e7f-4cfd-929f-9d473beef3ff",
   "metadata": {},
   "source": [
    "### Setting Indices\n",
    "\n",
    "(This is using pandas' loc, not iloc)\n",
    "\n",
    "Let's set the starting lineup!  "
   ]
  },
  {
   "cell_type": "code",
   "execution_count": null,
   "id": "f4915502-cea3-4c33-bb53-5dc63ac61b1d",
   "metadata": {},
   "outputs": [],
   "source": [
    "starting_lineup = celtics.loc[[2,3,4,5,8]]\n",
    "starting_lineup"
   ]
  },
  {
   "cell_type": "markdown",
   "id": "0c279691-0d04-41dc-8436-ca80b65ecc7c",
   "metadata": {},
   "source": [
    "We're going to use this starting a lineup a lot. Wouldn't it be nice if we could update the indexes? "
   ]
  },
  {
   "cell_type": "code",
   "execution_count": null,
   "id": "4f7302ec-93da-4863-a218-9088e9e78780",
   "metadata": {},
   "outputs": [],
   "source": [
    "new_starting_lineup = starting_lineup.reset_index()\n",
    "new_starting_lineup"
   ]
  },
  {
   "cell_type": "markdown",
   "id": "4671f317-357d-449a-8ce5-0a0efb8a0197",
   "metadata": {},
   "source": [
    "Hmm. So that's cool, but now I have a wasted data frame. 'starting_lineup' didn't update..."
   ]
  },
  {
   "cell_type": "code",
   "execution_count": null,
   "id": "46e817d1-7c27-4aa6-b03a-b3ed7c6e7ccd",
   "metadata": {},
   "outputs": [],
   "source": [
    "starting_lineup"
   ]
  },
  {
   "cell_type": "markdown",
   "id": "5ffa6bd9-883b-4871-a2db-06569c095d20",
   "metadata": {},
   "source": [
    "Let's fix that. "
   ]
  },
  {
   "cell_type": "code",
   "execution_count": null,
   "id": "bc577852-f106-4c63-b034-cb19797d7f34",
   "metadata": {},
   "outputs": [],
   "source": [
    "starting_lineup.reset_index(inplace=True)\n",
    "starting_lineup"
   ]
  },
  {
   "cell_type": "markdown",
   "id": "7e3353e6-6a9e-4c77-86b7-2e1fd9520b00",
   "metadata": {},
   "source": [
    "That's much better. I don't really need that second index column. Get outta here. "
   ]
  },
  {
   "cell_type": "code",
   "execution_count": null,
   "id": "da4c9f95-e78c-4611-9edc-005b236e53a6",
   "metadata": {},
   "outputs": [],
   "source": [
    "starting_lineup.reset_index(drop=True, inplace=True)\n",
    "starting_lineup"
   ]
  },
  {
   "cell_type": "markdown",
   "id": "50cd41e9-c047-4296-9d3c-a259c1f3a9fb",
   "metadata": {},
   "source": [
    "HA! Tricked you. That doesn't work. Those columns are still there. It's a bit of an either or. \n",
    "\n",
    "This makes **inplace=True** obsolete when you don't need the index column, because the solution is to reassign to the same variable..."
   ]
  },
  {
   "cell_type": "code",
   "execution_count": null,
   "id": "6fac4582-9df2-47ec-bccd-0409a1db9921",
   "metadata": {},
   "outputs": [],
   "source": [
    "starting_lineup = celtics.loc[[2,3,4,5,8]]\n",
    "starting_lineup = starting_lineup.reset_index(drop=True)\n",
    "starting_lineup"
   ]
  }
 ],
 "metadata": {
  "kernelspec": {
   "display_name": "Python 3 (ipykernel)",
   "language": "python",
   "name": "python3"
  },
  "language_info": {
   "codemirror_mode": {
    "name": "ipython",
    "version": 3
   },
   "file_extension": ".py",
   "mimetype": "text/x-python",
   "name": "python",
   "nbconvert_exporter": "python",
   "pygments_lexer": "ipython3",
   "version": "3.10.13"
  }
 },
 "nbformat": 4,
 "nbformat_minor": 5
}
